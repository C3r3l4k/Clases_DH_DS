{
 "cells": [
  {
   "cell_type": "code",
   "execution_count": 2,
   "id": "cf16e444",
   "metadata": {},
   "outputs": [],
   "source": [
    "import numpy as np "
   ]
  },
  {
   "cell_type": "code",
   "execution_count": null,
   "id": "c239601c",
   "metadata": {},
   "outputs": [],
   "source": [
    "filename=\"Formulario_C4.csv\"\n",
    "data_cruda = np.genfromtxt(filename,delimiter=\",\",dtype=str)\n",
    "data_cruda\n",
    "alturas = "
   ]
  }
 ],
 "metadata": {
  "kernelspec": {
   "display_name": "Python 3 (ipykernel)",
   "language": "python",
   "name": "python3"
  },
  "language_info": {
   "codemirror_mode": {
    "name": "ipython",
    "version": 3
   },
   "file_extension": ".py",
   "mimetype": "text/x-python",
   "name": "python",
   "nbconvert_exporter": "python",
   "pygments_lexer": "ipython3",
   "version": "3.9.7"
  }
 },
 "nbformat": 4,
 "nbformat_minor": 5
}
