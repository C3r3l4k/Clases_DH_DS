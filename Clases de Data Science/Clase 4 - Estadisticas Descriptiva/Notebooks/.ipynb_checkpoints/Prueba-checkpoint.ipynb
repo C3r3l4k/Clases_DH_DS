{
 "cells": [
  {
   "cell_type": "code",
   "execution_count": null,
   "id": "b0065c13",
   "metadata": {},
   "outputs": [],
   "source": [
    "import numpy as np "
   ]
  },
  {
   "cell_type": "code",
   "execution_count": null,
   "id": "cd8a6511",
   "metadata": {},
   "outputs": [],
   "source": [
    "filename = 'Formulario_C4.csv'\n",
    "data_cruda = np.genfromtxt(filename,delimiter = ',',dtype=str)\n",
    "data_cruda\n",
    "alturas = data_cruda[1:,1].astype(float)\n",
    "print(alturas)\n",
    "pesos = data_cruda[1:,2].astype(float)\n",
    "print(pesos)"
   ]
  },
  {
   "cell_type": "code",
   "execution_count": null,
   "id": "c466de36",
   "metadata": {},
   "outputs": [],
   "source": [
    "print(f'El valor medio para las alturas del curso es:{np.mean(alturas)}')\n",
    "print(f'El valor medio para los pesos del curso es:{np.mean(pesos)}')\n",
    "\n",
    "print(f'La mediana para las alturas del curso es:{np.median(alturas)}')\n",
    "print(f'La mediana para los pesos del curso es:{np.median(pesos)}')\n",
    "\n",
    "from scipy import stats\n",
    "print(f'La moda para las alturas del curso es:{stats.mode(alturas)}')"
   ]
  },
  {
   "cell_type": "code",
   "execution_count": null,
   "id": "7a842113",
   "metadata": {},
   "outputs": [],
   "source": [
    "import seaborn as sns"
   ]
  },
  {
   "cell_type": "code",
   "execution_count": null,
   "id": "208bce8f",
   "metadata": {},
   "outputs": [],
   "source": [
    "sns.lineplot(data = alturas)\n",
    "sns.lineplot(data = pesos)"
   ]
  },
  {
   "cell_type": "code",
   "execution_count": null,
   "id": "06530c01",
   "metadata": {},
   "outputs": [],
   "source": [
    "sns.scatterplot(x=alturas, y = pesos)"
   ]
  },
  {
   "cell_type": "code",
   "execution_count": null,
   "id": "b5a1ddd1",
   "metadata": {},
   "outputs": [],
   "source": [
    "sns.histplot(alturas)"
   ]
  },
  {
   "cell_type": "code",
   "execution_count": null,
   "id": "caca4b9c",
   "metadata": {},
   "outputs": [],
   "source": []
  }
 ],
 "metadata": {
  "kernelspec": {
   "display_name": "Python 3 (ipykernel)",
   "language": "python",
   "name": "python3"
  },
  "language_info": {
   "codemirror_mode": {
    "name": "ipython",
    "version": 3
   },
   "file_extension": ".py",
   "mimetype": "text/x-python",
   "name": "python",
   "nbconvert_exporter": "python",
   "pygments_lexer": "ipython3",
   "version": "3.9.7"
  }
 },
 "nbformat": 4,
 "nbformat_minor": 5
}
