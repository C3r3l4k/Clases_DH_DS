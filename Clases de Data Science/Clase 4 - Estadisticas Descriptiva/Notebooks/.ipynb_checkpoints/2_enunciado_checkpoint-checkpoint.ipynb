{
 "cells": [
  {
   "cell_type": "markdown",
   "metadata": {},
   "source": [
    "---\n",
    "\n",
    "<img src='../../../common/logo_DH.png' align='left' width=35%/>\n"
   ]
  },
  {
   "cell_type": "markdown",
   "metadata": {},
   "source": [
    "# Checkpoint Estadística Descriptiva"
   ]
  },
  {
   "cell_type": "markdown",
   "metadata": {},
   "source": [
    "Para esta práctica usaremos un subconjunto de los registros de un dataset de Kaggle que tiene datos oceanográficos https://www.kaggle.com/sohier/calcofi\n",
    "\n",
    "El conjunto de datos de CalCOFI representa la serie cronológica más larga (desde 1949 hasta el presente) y más completa (más de 50.000 estaciones de muestreo) de datos oceanográficos y de larvas de peces del mundo. \n",
    "\n",
    "Incluye datos sobre la abundancia de las larvas de más de 250 especies de peces; datos de frecuencia de tallas de larvas y datos de abundancia de huevos en especies comerciales clave; y datos oceanográficos y de plancton. \n",
    "\n",
    "Los datos físicos, químicos y biológicos recopilados a intervalos regulares de tiempo y espacio son valiosos para documentar los ciclos climáticos en la corriente de California y una variedad de respuestas biológicas a esos ciclos. \n",
    "\n",
    "La idea de esta práctica es analizar las variables numéricas de este dataset reducido (sólo cinco estaciones de muestreo) calculando medidas de tendencia central, de dispersión, y de asociación entre esas variables.\n"
   ]
  },
  {
   "cell_type": "markdown",
   "metadata": {},
   "source": [
    "## Ejercicio 1\n",
    "Leer los datos del archivo /M1/CLASE_04_EstadisticaDescriptiva/Data/bottle_reducido.csv\n",
    "\n",
    "Este archivo tiene algunos datos numéricos y otros de tipo cadena de caracteres. \n",
    "\n",
    "Cada uno del los registros del dataset representa una medición en una estación. Las variables medidas son profundidad, temperatura, saturación de oxígeno, nivel de salinidad.\n",
    "\n",
    "Las columnas son:\n",
    "\n",
    "* **Sta_ID**: cadena de caracteres, representa el id de la estación\n",
    "\n",
    "* **Depth_ID**: cadena de caracteres, representa el id de la medición\n",
    "\n",
    "* **Depthm**: numérico, representa la profundidad en metros \n",
    "\n",
    "* **T_degC**: numérico, representa la temperatura en grados centigrados\n",
    "\n",
    "* **O2Sat**: numérico, representa la saturación de oxígeno\n",
    "\n",
    "* **Salnty**: numérico, representa el nivel de salinidad\n",
    "\n",
    "¿Recuerdan que todos los elementos de una instancia de ndarray deben ser del mismo tipo? Entonces vamos a leer el archivo y crear una instancia de ndarray de tipo cadena de caracteres.\n",
    "\n",
    "¿Qué pasaría si intentáramos crear una instancia de tipo int? ¿Y de tipo float?\n"
   ]
  },
  {
   "cell_type": "code",
   "execution_count": 1,
   "metadata": {},
   "outputs": [],
   "source": [
    "import numpy as np\n",
    "\n",
    "# local:\n",
    "data_location = 'bottle_reducido.csv'"
   ]
  },
  {
   "cell_type": "code",
   "execution_count": 2,
   "metadata": {},
   "outputs": [
    {
     "data": {
      "text/plain": [
       "array([[     nan,      nan,    0.   ,   10.3  ,   92.8  ,   33.03 ],\n",
       "       [     nan,      nan,    6.   ,   18.46 ,  111.8  ,   32.92 ],\n",
       "       [     nan,      nan,   10.   ,   10.29 ,   95.   ,   32.951],\n",
       "       ...,\n",
       "       [     nan,      nan, 1100.   ,    3.51 ,    6.4  ,   34.44 ],\n",
       "       [     nan,      nan, 1200.   ,    3.29 ,    7.3  ,   34.481],\n",
       "       [     nan,      nan, 1247.   ,    3.18 ,    7.6  ,   34.5  ]])"
      ]
     },
     "execution_count": 2,
     "metadata": {},
     "output_type": "execute_result"
    }
   ],
   "source": [
    "#me falto esto\n",
    "data_cruda = np.genfromtxt(data_location,skip_header=1,delimiter='\\t')\n",
    "data_cruda"
   ]
  },
  {
   "cell_type": "code",
   "execution_count": 3,
   "metadata": {},
   "outputs": [
    {
     "data": {
      "text/plain": [
       "array([['044.0 048.5', '19-4904CR-HY-087-0606-04400485-0000B-3', '0',\n",
       "        '10.3', '92.8', '33.03'],\n",
       "       ['044.0 048.5', '19-4904CR-HY-087-0606-04400485-0006A-3', '6',\n",
       "        '18.46', '111.8', '32.92'],\n",
       "       ['044.0 048.5', '19-4904CR-HY-087-0606-04400485-0010A-7', '10',\n",
       "        '10.29', '95.0', '32.951'],\n",
       "       ...,\n",
       "       ['036.7 115.0', '19-4911BD-HY-318-2130-03671150-1100A-7', '1100',\n",
       "        '3.51', '6.4', '34.44'],\n",
       "       ['036.7 115.0', '19-4911BD-HY-318-2130-03671150-1200A-7', '1200',\n",
       "        '3.29', '7.3', '34.481'],\n",
       "       ['036.7 115.0', '19-4911BD-HY-318-2130-03671150-1247A-3', '1247',\n",
       "        '3.18', '7.6', '34.5']], dtype='<U38')"
      ]
     },
     "execution_count": 3,
     "metadata": {},
     "output_type": "execute_result"
    }
   ],
   "source": [
    "data_cruda_str = np.genfromtxt(data_location,skip_header=1,delimiter='\\t',dtype=str)\n",
    "data_cruda_str"
   ]
  },
  {
   "cell_type": "code",
   "execution_count": 4,
   "metadata": {},
   "outputs": [
    {
     "data": {
      "text/plain": [
       "array([[  -1,   -1,    0,   10,   92,   33],\n",
       "       [  -1,   -1,    6,   18,  111,   32],\n",
       "       [  -1,   -1,   10,   10,   95,   32],\n",
       "       ...,\n",
       "       [  -1,   -1, 1100,    3,    6,   34],\n",
       "       [  -1,   -1, 1200,    3,    7,   34],\n",
       "       [  -1,   -1, 1247,    3,    7,   34]])"
      ]
     },
     "execution_count": 4,
     "metadata": {},
     "output_type": "execute_result"
    }
   ],
   "source": [
    "data_cruda_int = np.genfromtxt(data_location,skip_header=1,delimiter='\\t',dtype=int)\n",
    "data_cruda_int"
   ]
  },
  {
   "cell_type": "code",
   "execution_count": 5,
   "metadata": {},
   "outputs": [
    {
     "data": {
      "text/plain": [
       "array([[     nan,      nan,    0.   ,   10.3  ,   92.8  ,   33.03 ],\n",
       "       [     nan,      nan,    6.   ,   18.46 ,  111.8  ,   32.92 ],\n",
       "       [     nan,      nan,   10.   ,   10.29 ,   95.   ,   32.951],\n",
       "       ...,\n",
       "       [     nan,      nan, 1100.   ,    3.51 ,    6.4  ,   34.44 ],\n",
       "       [     nan,      nan, 1200.   ,    3.29 ,    7.3  ,   34.481],\n",
       "       [     nan,      nan, 1247.   ,    3.18 ,    7.6  ,   34.5  ]])"
      ]
     },
     "execution_count": 5,
     "metadata": {},
     "output_type": "execute_result"
    }
   ],
   "source": [
    "data_cruda_float = np.genfromtxt(data_location,skip_header=1,delimiter='\\t',dtype=float)\n",
    "data_cruda_float"
   ]
  },
  {
   "cell_type": "markdown",
   "metadata": {},
   "source": [
    "## Ejercicio 2\n",
    "\n",
    "Sobre los datos de nivel de salinidad (columna Salnty) calcular:\n",
    "\n",
    "* media\n",
    "\n",
    "* mediana \n",
    "\n",
    "* desvio\n",
    "\n",
    "* rango\n"
   ]
  },
  {
   "cell_type": "code",
   "execution_count": 6,
   "metadata": {},
   "outputs": [],
   "source": [
    "salinity_column_index = 5\n",
    "salinity_vector = data_cruda_str[:, salinity_column_index]\n",
    "salinity_vector_numeric = salinity_vector.astype(float)"
   ]
  },
  {
   "cell_type": "code",
   "execution_count": 7,
   "metadata": {},
   "outputs": [
    {
     "data": {
      "text/plain": [
       "33.601653746770026"
      ]
     },
     "execution_count": 7,
     "metadata": {},
     "output_type": "execute_result"
    }
   ],
   "source": [
    "salinity_vector_numeric_mean = salinity_vector_numeric.mean()\n",
    "salinity_vector_numeric_mean"
   ]
  },
  {
   "cell_type": "code",
   "execution_count": 8,
   "metadata": {},
   "outputs": [
    {
     "data": {
      "text/plain": [
       "33.8485"
      ]
     },
     "execution_count": 8,
     "metadata": {},
     "output_type": "execute_result"
    }
   ],
   "source": [
    "salinity_vector_numeric_median = np.median(salinity_vector_numeric)\n",
    "salinity_vector_numeric_median"
   ]
  },
  {
   "cell_type": "code",
   "execution_count": 9,
   "metadata": {},
   "outputs": [
    {
     "data": {
      "text/plain": [
       "0.6562158205240991"
      ]
     },
     "execution_count": 9,
     "metadata": {},
     "output_type": "execute_result"
    }
   ],
   "source": [
    "salinity_vector_numeric_std= np.std(salinity_vector_numeric)\n",
    "salinity_vector_numeric_std"
   ]
  },
  {
   "cell_type": "code",
   "execution_count": 10,
   "metadata": {},
   "outputs": [
    {
     "data": {
      "text/plain": [
       "array([34.187 , 33.8485, 32.9   ])"
      ]
     },
     "execution_count": 10,
     "metadata": {},
     "output_type": "execute_result"
    }
   ],
   "source": [
    "salinity_vector_numeric_riq= np.percentile(salinity_vector_numeric,[75,50,25])\n",
    "salinity_vector_numeric_riq"
   ]
  },
  {
   "cell_type": "code",
   "execution_count": 11,
   "metadata": {},
   "outputs": [
    {
     "data": {
      "text/plain": [
       "2.3600000000000065"
      ]
     },
     "execution_count": 11,
     "metadata": {},
     "output_type": "execute_result"
    }
   ],
   "source": [
    "## solucion del profesor\n",
    "np.max(salinity_vector_numeric) - np.min(salinity_vector_numeric)"
   ]
  },
  {
   "cell_type": "markdown",
   "metadata": {},
   "source": [
    "## Ejercicio 3\n",
    "\n",
    "Usando la función `distribution_plotter` graficar las distribuciones de las variables Depthm, T_degC, O2Sat, Salnty\n",
    "\n",
    "<code>\n",
    "\n",
    "import seaborn as sns\n",
    "\n",
    "def distribution_plotter(data, label, bin_width=100):    \n",
    "    sns.set(rc={\"figure.figsize\": (7, 5)})\n",
    "    sns.set_style(\"white\")    \n",
    "    dist = sns.histplot(data, stat = 'count', kde = False, \n",
    "                        line_kws = {'linewidth':5}, \n",
    "                        binwidth = bin_width)    \n",
    "    dist.set_title('Distribucion ' + label + '\\n', fontsize = 16)\n",
    "</code>\n",
    "\n",
    "\n",
    "Qué pueden decir de estas distribuciones?\n",
    "\n",
    "Pongan atención en la elección del parámetro `bin_width` para que el gráfico sea informativo.\n"
   ]
  },
  {
   "cell_type": "code",
   "execution_count": 12,
   "metadata": {},
   "outputs": [],
   "source": [
    "import seaborn as sns\n",
    "\n",
    "def distribution_plotter(data, label, bin_width=100):    \n",
    "    sns.set(rc={\"figure.figsize\": (7, 5)})\n",
    "    sns.set_style(\"white\")    \n",
    "    dist = sns.histplot(data, stat = 'count', kde = False, \n",
    "                        line_kws = {'linewidth':5}, \n",
    "                        binwidth = bin_width)    \n",
    "    dist.set_title('Distribucion ' + label + '\\n', fontsize = 16)"
   ]
  },
  {
   "cell_type": "code",
   "execution_count": 13,
   "metadata": {},
   "outputs": [],
   "source": [
    "depthm_column_index = 2\n",
    "tdegC_column_index = 3\n",
    "o2sat_column_index = 4\n",
    "\n",
    "depthm_vector_numeric = data_cruda_str[:, depthm_column_index].astype(float)\n",
    "tdegC_vector_numeric = data_cruda_str[:, tdegC_column_index].astype(float)\n",
    "o2sat_vector_numeric = data_cruda_str[:, o2sat_column_index].astype(float)\n"
   ]
  },
  {
   "cell_type": "code",
   "execution_count": 14,
   "metadata": {},
   "outputs": [
    {
     "data": {
      "image/png": "[encoded data removed]",
      "text/plain": [
       "<Figure size 504x360 with 1 Axes>"
      ]
     },
     "metadata": {},
     "output_type": "display_data"
    }
   ],
   "source": [
    "distribution_plotter(depthm_vector_numeric,'depthm')"
   ]
  },
  {
   "cell_type": "code",
   "execution_count": 15,
   "metadata": {},
   "outputs": [
    {
     "data": {
      "image/png": "[encoded data removed]",
      "text/plain": [
       "<Figure size 504x360 with 1 Axes>"
      ]
     },
     "metadata": {},
     "output_type": "display_data"
    }
   ],
   "source": [
    "distribution_plotter(tdegC_vector_numeric,'tdegC',1)"
   ]
  },
  {
   "cell_type": "code",
   "execution_count": 16,
   "metadata": {},
   "outputs": [
    {
     "data": {
      "image/png": "[encoded data removed]",
      "text/plain": [
       "<Figure size 504x360 with 1 Axes>"
      ]
     },
     "metadata": {},
     "output_type": "display_data"
    }
   ],
   "source": [
    "distribution_plotter(o2sat_vector_numeric,'o2sat',10)"
   ]
  },
  {
   "cell_type": "code",
   "execution_count": 27,
   "metadata": {},
   "outputs": [
    {
     "data": {
      "image/png": "[encoded data removed]",
      "text/plain": [
       "<Figure size 504x360 with 1 Axes>"
      ]
     },
     "metadata": {},
     "output_type": "display_data"
    }
   ],
   "source": [
    "# me falto este\n",
    "distribution_plotter(salinity_vector_numeric, \"Salinity\", bin_width=0.1)"
   ]
  },
  {
   "cell_type": "markdown",
   "metadata": {},
   "source": [
    "## Ejercicio 4\n",
    "\n",
    "Calcular las matrices de correlación y covarianza de las variables Depthm, T_degC, O2Sat, Salnty\n",
    "\n",
    "A partir de estos resultados, elegir sólo una de estas variables para intentar predecir el valor de salinidad:\n",
    "\n",
    "* ¿Usarían para esto la matriz de correlación o la de covarianzas? ¿Por qué?\n",
    "\n",
    "* ¿Qué variable elegirían? Justificar la decisión.\n",
    "\n"
   ]
  },
  {
   "cell_type": "code",
   "execution_count": 18,
   "metadata": {},
   "outputs": [
    {
     "data": {
      "text/plain": [
       "array([[   0.   ,   10.3  ,   92.8  ,   33.03 ],\n",
       "       [   6.   ,   18.46 ,  111.8  ,   32.92 ],\n",
       "       [  10.   ,   10.29 ,   95.   ,   32.951],\n",
       "       ...,\n",
       "       [1100.   ,    3.51 ,    6.4  ,   34.44 ],\n",
       "       [1200.   ,    3.29 ,    7.3  ,   34.481],\n",
       "       [1247.   ,    3.18 ,    7.6  ,   34.5  ]])"
      ]
     },
     "execution_count": 18,
     "metadata": {},
     "output_type": "execute_result"
    }
   ],
   "source": [
    "variables_colums_index = range(2,6)\n",
    "\n",
    "X = data_cruda_str[:, variables_colums_index].astype(float)\n",
    "\n",
    "X"
   ]
  },
  {
   "cell_type": "code",
   "execution_count": 19,
   "metadata": {},
   "outputs": [
    {
     "data": {
      "text/plain": [
       "array([[ 1.        , -0.81016811, -0.83900896,  0.83514915],\n",
       "       [-0.81016811,  1.        ,  0.8955951 , -0.91514575],\n",
       "       [-0.83900896,  0.8955951 ,  1.        , -0.97048787],\n",
       "       [ 0.83514915, -0.91514575, -0.97048787,  1.        ]])"
      ]
     },
     "execution_count": 19,
     "metadata": {},
     "output_type": "execute_result"
    }
   ],
   "source": [
    "#corregido\n",
    "correlacion = np.corrcoef(X.T) #agregamos la T, y el nombre de la variable\n",
    "correlacion.shape #agregamos el shape\n",
    "correlacion #hacemos la llamda de la varible"
   ]
  },
  {
   "cell_type": "code",
   "execution_count": 20,
   "metadata": {},
   "outputs": [
    {
     "data": {
      "text/plain": [
       "array([[ 1.22730122e+05, -1.11538543e+03, -1.10802454e+04,\n",
       "         1.92117557e+02],\n",
       "       [-1.11538543e+03,  1.54435978e+01,  1.32676236e+02,\n",
       "        -2.36152167e+00],\n",
       "       [-1.10802454e+04,  1.32676236e+02,  1.42106646e+03,\n",
       "        -2.40228614e+01],\n",
       "       [ 1.92117557e+02, -2.36152167e+00, -2.40228614e+01,\n",
       "         4.31176278e-01]])"
      ]
     },
     "execution_count": 20,
     "metadata": {},
     "output_type": "execute_result"
    }
   ],
   "source": [
    "#corregido\n",
    "covarianza = np.cov(X.T) #agregamos la T, y el nombre de la variable\n",
    "covarianza.shape #agregamos el shape\n",
    "covarianza #hacemos la llamada de la variable"
   ]
  },
  {
   "cell_type": "code",
   "execution_count": 21,
   "metadata": {},
   "outputs": [],
   "source": [
    "#sacado de la solucion\n",
    "xdepthm_column_index = 0\n",
    "xtdegc_column_index = 1\n",
    "xo2sat_column_index = 2\n",
    "xsalinity_column_index = 3"
   ]
  },
  {
   "cell_type": "code",
   "execution_count": 22,
   "metadata": {},
   "outputs": [
    {
     "data": {
      "text/plain": [
       "0"
      ]
     },
     "execution_count": 22,
     "metadata": {},
     "output_type": "execute_result"
    }
   ],
   "source": [
    "#sacado de la solucion\n",
    "#usamos covarianzas y correlacion de la data de salinity\n",
    "\n",
    "covarianzas_salinity = [ abs(covarianza[xsalinity_column_index, xdepthm_column_index]), \n",
    "                         abs(covarianza[xsalinity_column_index, xtdegc_column_index]), \n",
    "                        abs(covarianza[xsalinity_column_index, xo2sat_column_index]), \n",
    "                       ]\n",
    "\n",
    "correlacion_salinity = [ abs(correlacion[xsalinity_column_index, xdepthm_column_index]), \n",
    "                         abs(correlacion[xsalinity_column_index, xtdegc_column_index]), \n",
    "                         abs(correlacion[xsalinity_column_index, xo2sat_column_index]), \n",
    "                       ]\n",
    "\n",
    "np.argmax(covarianzas_salinity)"
   ]
  },
  {
   "cell_type": "code",
   "execution_count": 23,
   "metadata": {},
   "outputs": [
    {
     "data": {
      "text/plain": [
       "2"
      ]
     },
     "execution_count": 23,
     "metadata": {},
     "output_type": "execute_result"
    }
   ],
   "source": [
    "np.argmax(correlacion_salinity)"
   ]
  },
  {
   "cell_type": "code",
   "execution_count": 24,
   "metadata": {},
   "outputs": [
    {
     "name": "stdout",
     "output_type": "stream",
     "text": [
      "    Depthm     /          Tdegc        /        O2Sat\n",
      "[192.11755735397836, 2.3615216728675494, 24.022861369007618]\n"
     ]
    }
   ],
   "source": [
    "print('    Depthm     /          Tdegc        /        O2Sat')\n",
    "print(covarianzas_salinity)"
   ]
  },
  {
   "cell_type": "code",
   "execution_count": 25,
   "metadata": {},
   "outputs": [
    {
     "name": "stdout",
     "output_type": "stream",
     "text": [
      "    Depthm     /          Tdegc        /        O2Sat\n",
      "[0.8351491508376462, 0.9151457452033673, 0.9704878676544928]\n"
     ]
    }
   ],
   "source": [
    "\n",
    "print('    Depthm     /          Tdegc        /        O2Sat')\n",
    "print(correlacion_salinity)"
   ]
  },
  {
   "cell_type": "markdown",
   "metadata": {},
   "source": [
    "#sale de la solucion\n",
    "\n",
    "Elegiría la variable O2Sat para predecir el valor de Salnty porque es la que tiene el valor máximo en la matriz de correlación"
   ]
  }
 ],
 "metadata": {
  "kernelspec": {
   "display_name": "Python 3 (ipykernel)",
   "language": "python",
   "name": "python3"
  },
  "language_info": {
   "codemirror_mode": {
    "name": "ipython",
    "version": 3
   },
   "file_extension": ".py",
   "mimetype": "text/x-python",
   "name": "python",
   "nbconvert_exporter": "python",
   "pygments_lexer": "ipython3",
   "version": "3.9.7"
  }
 },
 "nbformat": 4,
 "nbformat_minor": 4
}
