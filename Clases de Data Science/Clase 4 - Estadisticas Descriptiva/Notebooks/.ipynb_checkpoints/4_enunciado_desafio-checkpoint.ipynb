{
 "cells": [
  {
   "cell_type": "markdown",
   "metadata": {},
   "source": [
    "---\n",
    "\n",
    "<img src='../../../common/logo_DH.png' align='left' width=35%/>\n"
   ]
  },
  {
   "cell_type": "markdown",
   "metadata": {},
   "source": [
    "En la práctica de la clase de hoy usaremos un dataset de Kaggle que tiene datos de ventas:\n",
    "\n",
    "https://www.kaggle.com/kyanyoga/sample-sales-data\n",
    "\n",
    "Ustedes tienen un subconjunto de los datos disponibles para resolver los ejercicios de esta práctica."
   ]
  },
  {
   "cell_type": "markdown",
   "metadata": {},
   "source": [
    "## Ejercicio 1\n",
    "Leer los datos del archivo /M1/CLASE_03/Data/sales_data_sample_excercise.csv\n",
    "\n",
    "Este archivo tiene algunos datos numéricos y otros de tipo cadena de caracteres. \n",
    "\n",
    "Las columnas son:\n",
    "\n",
    "* ORDERNUMBER: int, id de la orden\n",
    "\n",
    "* SALES: float, monto abonado\n",
    "\n",
    "* MONTH_ID: int, mes\n",
    "\n",
    "* YEAR_ID: int, año\n",
    "\n",
    "* PRODUCTLINE: str, producto\n",
    "\n",
    "* COUNTRY: str, país de venta\n",
    "\n",
    "¿Recuerdan que todos los elementos de una instancia de ndarray deben ser del mismo tipo? Entonces vamos a leer el archivo y crear una instancia de ndarray de tipo cadena de caracteres.\n",
    "\n",
    "¿Qué pasaría si intentáramos crear una instancia de tipo int? ¿Y de tipo float?\n"
   ]
  },
  {
   "cell_type": "code",
   "execution_count": 1,
   "metadata": {},
   "outputs": [],
   "source": [
    "#traemos NumPy y le establecemos un valor \"np\"\n",
    "\n",
    "import numpy as np"
   ]
  },
  {
   "cell_type": "code",
   "execution_count": 2,
   "metadata": {},
   "outputs": [],
   "source": [
    "#traemos el archivo bajo el nombre\n",
    "file_name = 'sales_data_sample_excercise.csv'\n",
    "\n",
    "#establecemos la variable con la que estamos trabajando, no le damos ningun tipo\n",
    "data_cruda = np.genfromtxt(file_name,skip_header=1,delimiter='\\t')\n",
    "#data_cruda"
   ]
  },
  {
   "cell_type": "code",
   "execution_count": 3,
   "metadata": {},
   "outputs": [],
   "source": [
    "#establecemos la variable con la que estamos trabajando, establecemos como tipo str\n",
    "data_cruda_str = np.genfromtxt(file_name,skip_header=1,delimiter='\\t',dtype=str)\n",
    "#data_cruda_str"
   ]
  },
  {
   "cell_type": "code",
   "execution_count": 4,
   "metadata": {},
   "outputs": [],
   "source": [
    "#establecemos la variable con la que estamos trabajando, establecemos como tipo int\n",
    "data_cruda_int = np.genfromtxt(file_name,skip_header=1,delimiter='\\t',dtype=int)\n",
    "#data_cruda_int"
   ]
  },
  {
   "cell_type": "code",
   "execution_count": 5,
   "metadata": {},
   "outputs": [],
   "source": [
    "#establecemos la variable con la que estamos trabajando, establecemos como tipo float\n",
    "data_cruda_float = np.genfromtxt(file_name,skip_header=1,delimiter='\\t',dtype=float)\n",
    "#data_cruda_float"
   ]
  },
  {
   "cell_type": "markdown",
   "metadata": {},
   "source": [
    "## Ejercicio 2\n",
    "\n",
    "La función `distribution_plotter` grafica los datos que recibe como parámetro en una instancia de numpy array\n",
    "\n",
    "Graficar los precios de ventas en tres países. ¿Qué pueden decir respecto a sus distribuciones?\n",
    "\n",
    "Comparar las distribuciones con la de los precios de ventas sin distinguir por paises"
   ]
  },
  {
   "cell_type": "code",
   "execution_count": 6,
   "metadata": {},
   "outputs": [],
   "source": [
    "import seaborn as sns\n",
    "\n",
    "def distribution_plotter(data, label, bin_width=500):    \n",
    "    sns.set(rc={\"figure.figsize\": (7, 5)})\n",
    "    sns.set_style(\"white\")    \n",
    "    dist = sns.histplot(data, stat = 'count', kde = False, \n",
    "                        line_kws = {'linewidth':5}, \n",
    "                        binwidth = bin_width)    \n",
    "    dist.set_title('Distribucion ' + label + '\\n', fontsize = 16)"
   ]
  },
  {
   "cell_type": "code",
   "execution_count": 7,
   "metadata": {},
   "outputs": [],
   "source": [
    "#Creamos el index de cada uno de los datos\n",
    "order_index = 0\n",
    "sales_index = 1\n",
    "month_index = 2\n",
    "year_index = 3\n",
    "product_line_index = 4\n",
    "country_index = 5"
   ]
  },
  {
   "cell_type": "code",
   "execution_count": 8,
   "metadata": {},
   "outputs": [],
   "source": [
    "#Establecemos las variables de los datos\n",
    "order_data = data_cruda_str[:,order_index].astype(int)\n",
    "#print(order_data)\n",
    "sales_data = data_cruda_str[:,sales_index].astype(float)\n",
    "#print(sales_data)\n",
    "month_data = data_cruda_str[:,month_index].astype(int) \n",
    "#print(month_data)\n",
    "year_data = data_cruda_str[:,year_index].astype(int) \n",
    "#print(year_data)\n",
    "product_line_data = data_cruda_str[:,product_line_index].astype(str)\n",
    "#print(product_line_data)\n",
    "country_data = data_cruda_str[:,country_index].astype(str)\n",
    "#print(country_data)"
   ]
  },
  {
   "cell_type": "code",
   "execution_count": 9,
   "metadata": {},
   "outputs": [],
   "source": [
    "#vemos los valores unicos\n",
    "unique_country = np.unique(country_data)"
   ]
  },
  {
   "cell_type": "code",
   "execution_count": 10,
   "metadata": {},
   "outputs": [],
   "source": [
    "#elegimos los tres paises\n",
    "australia_mask = country_data == 'Australia'\n",
    "sales_australia = sales_data[australia_mask]\n",
    "#print(sales_australia)\n",
    "\n",
    "spain_mask = country_data == 'Spain'\n",
    "sales_spain = sales_data[spain_mask]\n",
    "#print(sales_spain)\n",
    "\n",
    "usa_mask = country_data == 'USA'\n",
    "sales_usa = sales_data[usa_mask]\n",
    "#print(sales_usa)"
   ]
  },
  {
   "cell_type": "code",
   "execution_count": 11,
   "metadata": {},
   "outputs": [
    {
     "data": {
      "image/png": "[encoded data removed]",
      "text/plain": [
       "<Figure size 504x360 with 1 Axes>"
      ]
     },
     "metadata": {},
     "output_type": "display_data"
    }
   ],
   "source": [
    "#Grafico combinado\n",
    "distribution_plotter([sales_australia,sales_spain,sales_usa],'Australia, Spain and USA',500)"
   ]
  },
  {
   "cell_type": "code",
   "execution_count": 12,
   "metadata": {},
   "outputs": [
    {
     "data": {
      "image/png": "[encoded data removed]",
      "text/plain": [
       "<Figure size 504x360 with 1 Axes>"
      ]
     },
     "metadata": {},
     "output_type": "display_data"
    }
   ],
   "source": [
    "#Grafico AUSTRALIA\n",
    "distribution_plotter(sales_australia,'Australia',500)"
   ]
  },
  {
   "cell_type": "code",
   "execution_count": 13,
   "metadata": {},
   "outputs": [
    {
     "data": {
      "image/png": "[encoded data removed]",
      "text/plain": [
       "<Figure size 504x360 with 1 Axes>"
      ]
     },
     "metadata": {},
     "output_type": "display_data"
    }
   ],
   "source": [
    "#grafico SPAIN\n",
    "distribution_plotter(sales_spain,'Spain',500)"
   ]
  },
  {
   "cell_type": "code",
   "execution_count": 14,
   "metadata": {},
   "outputs": [
    {
     "data": {
      "image/png": "[encoded data removed]",
      "text/plain": [
       "<Figure size 504x360 with 1 Axes>"
      ]
     },
     "metadata": {},
     "output_type": "display_data"
    }
   ],
   "source": [
    "#grafico USA\n",
    "distribution_plotter(sales_usa,'USA',500)"
   ]
  },
  {
   "cell_type": "code",
   "execution_count": 15,
   "metadata": {},
   "outputs": [
    {
     "data": {
      "image/png": "[encoded data removed]",
      "text/plain": [
       "<Figure size 504x360 with 1 Axes>"
      ]
     },
     "metadata": {},
     "output_type": "display_data"
    }
   ],
   "source": [
    "#grafico de todos los paises\n",
    "distribution_plotter(sales_data,'Todos los paises',500)"
   ]
  },
  {
   "cell_type": "markdown",
   "metadata": {},
   "source": [
    "## Ejercicio 3\n",
    "Para los tres países del punto anterior, calcular con dos decimales\n",
    "* Media\n",
    "* Mediana\n",
    "* Rango\n",
    "* Desvío estandard\n",
    "\n",
    "Repetir para todos los datos de ventas sin distinguir por país.\n",
    "\n",
    "¿Qué conclusiones pueden sacar respecto a la información que brinda cada una de estas medidas en este caso particular?"
   ]
  },
  {
   "cell_type": "code",
   "execution_count": 16,
   "metadata": {},
   "outputs": [
    {
     "name": "stdout",
     "output_type": "stream",
     "text": [
      "--------AUSTRALIA---------\n",
      "La media arimetica de las ventas de Australia es 3408.77\n",
      "La mediana de las ventas de Australia es 3070.4\n",
      "El rango de las ventas de Australia es 9121.68\n",
      "El desvio estandar de las ventas de Australia es 1749.41\n",
      "--------SPAIN---------\n",
      "La media arimetica de las ventas de España es 3554.64\n",
      "La mediana de las ventas de España es 3213.8\n",
      "El rango de las ventas de España es 11317.2\n",
      "El desvio estandar de las ventas de España es 1833.14\n",
      "--------USA---------\n",
      "La media arimetica de las ventas de USA es 3613.53\n",
      "La mediana de las ventas de USA es 3236.06\n",
      "El rango de las ventas de USA es 13541.66\n",
      "El desvio estandar de las ventas de USA es 1880.0\n",
      "-----------------\n"
     ]
    }
   ],
   "source": [
    "#Australia\n",
    "print(\"--------AUSTRALIA---------\")\n",
    "#calculemos la media\n",
    "print(f'La media arimetica de las ventas de Australia es {np.around(sales_australia.mean(),2)}')\n",
    "#calculamos la mediana\n",
    "print(f'La mediana de las ventas de Australia es {np.around(np.median(sales_australia),2)}')\n",
    "#calculamos el rango\n",
    "print(f'El rango de las ventas de Australia es {np.around(np.max((sales_australia)-np.min(sales_australia)),2)}')\n",
    "#calculamos el desvio estandar\n",
    "print(f'El desvio estandar de las ventas de Australia es {np.around(np.std(sales_australia),2)}')\n",
    "\n",
    "\n",
    "#Spain\n",
    "print(\"--------SPAIN---------\")\n",
    "#calculemos la media\n",
    "print(f'La media arimetica de las ventas de España es {np.around(sales_spain.mean(),2)}')\n",
    "#calculamos la mediana\n",
    "print(f'La mediana de las ventas de España es {np.around(np.median(sales_spain),2)}')\n",
    "#calculamos el rango\n",
    "print(f'El rango de las ventas de España es {np.around(np.max((sales_spain)-np.min(sales_spain)),2)}')\n",
    "#calculamos el desvio estandar\n",
    "print(f'El desvio estandar de las ventas de España es {np.around(np.std(sales_spain),2)}')\n",
    "\n",
    "\n",
    "#USA\n",
    "print(\"--------USA---------\")\n",
    "#calculemos la media\n",
    "print(f'La media arimetica de las ventas de USA es {np.around(sales_usa.mean(),2)}')\n",
    "#calculamos la mediana\n",
    "print(f'La mediana de las ventas de USA es {np.around(np.median(sales_usa),2)}')\n",
    "#calculamos el rango\n",
    "print(f'El rango de las ventas de USA es {np.around(np.max((sales_usa)-np.min(sales_usa)),2)}')\n",
    "#calculamos el desvio estandar\n",
    "print(f'El desvio estandar de las ventas de USA es {np.around(np.std(sales_usa),2)}')\n",
    "print(\"-----------------\")\n",
    "\n"
   ]
  },
  {
   "cell_type": "code",
   "execution_count": 17,
   "metadata": {},
   "outputs": [
    {
     "name": "stdout",
     "output_type": "stream",
     "text": [
      "-------TODOS LOS PAISES----------\n",
      "La media arimetica de las ventas de todos los paises es 3553.89\n",
      "La mediana de las ventas de todos los paises es 3184.8\n",
      "El rango de las ventas de todos los paises es 13600.67\n",
      "El desvio estandar de las ventas de todos los paises es 1841.54\n",
      "-----------------\n"
     ]
    }
   ],
   "source": [
    "print(\"-------TODOS LOS PAISES----------\")\n",
    "#calculemos la media\n",
    "print(f'La media arimetica de las ventas de todos los paises es {np.around(sales_data.mean(),2)}')\n",
    "#calculamos la mediana\n",
    "print(f'La mediana de las ventas de todos los paises es {np.around(np.median(sales_data),2)}')\n",
    "#calculamos el rango\n",
    "print(f'El rango de las ventas de todos los paises es {np.around(np.max((sales_data)-np.min(sales_data)),2)}')\n",
    "#calculamos el desvio estandar\n",
    "print(f'El desvio estandar de las ventas de todos los paises es {np.around(np.std(sales_data),2)}')\n",
    "print(\"-----------------\")\n",
    "\n"
   ]
  }
 ],
 "metadata": {
  "kernelspec": {
   "display_name": "Python 3 (ipykernel)",
   "language": "python",
   "name": "python3"
  },
  "language_info": {
   "codemirror_mode": {
    "name": "ipython",
    "version": 3
   },
   "file_extension": ".py",
   "mimetype": "text/x-python",
   "name": "python",
   "nbconvert_exporter": "python",
   "pygments_lexer": "ipython3",
   "version": "3.9.7"
  }
 },
 "nbformat": 4,
 "nbformat_minor": 4
}
