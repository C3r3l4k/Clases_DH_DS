{
 "cells": [
  {
   "cell_type": "markdown",
   "id": "926f3296",
   "metadata": {},
   "source": [
    "##ejercicio 1 \n",
    "#Dadas dos series que representan cantidades"
   ]
  },
  {
   "cell_type": "code",
   "execution_count": 1,
   "id": "e4cd297e",
   "metadata": {},
   "outputs": [],
   "source": [
    "import pandas as pd"
   ]
  },
  {
   "cell_type": "code",
   "execution_count": 2,
   "id": "b4da5c66",
   "metadata": {},
   "outputs": [],
   "source": [
    "cantidades_prod1 = pd.Series([3, 7, 1], index=['local_a', 'local_b', 'local_c'])\n",
    "cantidades_prod2 = pd.Series([54, 70, 985], index=['local_a', 'local_b', 'local_c'])"
   ]
  },
  {
   "cell_type": "code",
   "execution_count": 3,
   "id": "74cd0daa",
   "metadata": {},
   "outputs": [
    {
     "data": {
      "text/plain": [
       "local_a    3\n",
       "local_b    7\n",
       "local_c    1\n",
       "dtype: int64"
      ]
     },
     "metadata": {},
     "output_type": "display_data"
    }
   ],
   "source": [
    "display(cantidades_prod1.head())"
   ]
  },
  {
   "cell_type": "code",
   "execution_count": 4,
   "id": "83182e71",
   "metadata": {},
   "outputs": [
    {
     "data": {
      "text/plain": [
       "local_a     54\n",
       "local_b     70\n",
       "local_c    985\n",
       "dtype: int64"
      ]
     },
     "execution_count": 4,
     "metadata": {},
     "output_type": "execute_result"
    }
   ],
   "source": [
    "cantidades_prod2"
   ]
  },
  {
   "cell_type": "code",
   "execution_count": 5,
   "id": "8e65ff1b",
   "metadata": {},
   "outputs": [
    {
     "data": {
      "text/plain": [
       "70"
      ]
     },
     "execution_count": 5,
     "metadata": {},
     "output_type": "execute_result"
    }
   ],
   "source": [
    "#¿Que cantidad de prod 2?\n",
    "cantidades_prod2['local_b']"
   ]
  },
  {
   "cell_type": "code",
   "execution_count": 6,
   "id": "9ed16f69",
   "metadata": {},
   "outputs": [
    {
     "data": {
      "text/plain": [
       "4"
      ]
     },
     "execution_count": 6,
     "metadata": {},
     "output_type": "execute_result"
    }
   ],
   "source": [
    "#usando iloc obtener la suma de prod1 en local_a y local_c\n",
    "cantidades_prod1.iloc[::2].sum()"
   ]
  },
  {
   "cell_type": "code",
   "execution_count": 7,
   "id": "fb5cdf27",
   "metadata": {},
   "outputs": [
    {
     "data": {
      "text/plain": [
       "'local_b'"
      ]
     },
     "execution_count": 7,
     "metadata": {},
     "output_type": "execute_result"
    }
   ],
   "source": [
    "#usando index responder ¿que local corresponde al indice 1 de cantidades_prod1\n",
    "cantidades_prod1.index[1]"
   ]
  },
  {
   "cell_type": "markdown",
   "id": "7bf969f6",
   "metadata": {},
   "source": [
    "#Ejercicio 2"
   ]
  },
  {
   "cell_type": "code",
   "execution_count": 22,
   "id": "e571e52e",
   "metadata": {},
   "outputs": [
    {
     "data": {
      "text/html": [
       "<div>\n",
       "<style scoped>\n",
       "    .dataframe tbody tr th:only-of-type {\n",
       "        vertical-align: middle;\n",
       "    }\n",
       "\n",
       "    .dataframe tbody tr th {\n",
       "        vertical-align: top;\n",
       "    }\n",
       "\n",
       "    .dataframe thead th {\n",
       "        text-align: right;\n",
       "    }\n",
       "</style>\n",
       "<table border=\"1\" class=\"dataframe\">\n",
       "  <thead>\n",
       "    <tr style=\"text-align: right;\">\n",
       "      <th></th>\n",
       "      <th>cantidades_prod1</th>\n",
       "      <th>cantidades_prod2</th>\n",
       "    </tr>\n",
       "  </thead>\n",
       "  <tbody>\n",
       "    <tr>\n",
       "      <th>local_a</th>\n",
       "      <td>3</td>\n",
       "      <td>54</td>\n",
       "    </tr>\n",
       "    <tr>\n",
       "      <th>local_b</th>\n",
       "      <td>7</td>\n",
       "      <td>70</td>\n",
       "    </tr>\n",
       "    <tr>\n",
       "      <th>local_c</th>\n",
       "      <td>1</td>\n",
       "      <td>985</td>\n",
       "    </tr>\n",
       "  </tbody>\n",
       "</table>\n",
       "</div>"
      ],
      "text/plain": [
       "         cantidades_prod1  cantidades_prod2\n",
       "local_a                 3                54\n",
       "local_b                 7                70\n",
       "local_c                 1               985"
      ]
     },
     "execution_count": 22,
     "metadata": {},
     "output_type": "execute_result"
    }
   ],
   "source": [
    "#Construir una instancia de DataFrame usando las dos series del ejercicio anterior como columnas.\n",
    "data_cantidades = pd.DataFrame([cantidades_prod1,cantidades_prod2],columns=['local_a','local_b','local_c'],index=['cantidades_prod1','cantidades_prod2']).transpose()\n",
    "data_cantidades"
   ]
  },
  {
   "cell_type": "code",
   "execution_count": 23,
   "id": "a187f120",
   "metadata": {},
   "outputs": [
    {
     "data": {
      "text/html": [
       "<div>\n",
       "<style scoped>\n",
       "    .dataframe tbody tr th:only-of-type {\n",
       "        vertical-align: middle;\n",
       "    }\n",
       "\n",
       "    .dataframe tbody tr th {\n",
       "        vertical-align: top;\n",
       "    }\n",
       "\n",
       "    .dataframe thead th {\n",
       "        text-align: right;\n",
       "    }\n",
       "</style>\n",
       "<table border=\"1\" class=\"dataframe\">\n",
       "  <thead>\n",
       "    <tr style=\"text-align: right;\">\n",
       "      <th></th>\n",
       "      <th>cantidades_prod1</th>\n",
       "      <th>cantidades_prod2</th>\n",
       "      <th>totales</th>\n",
       "    </tr>\n",
       "  </thead>\n",
       "  <tbody>\n",
       "    <tr>\n",
       "      <th>local_a</th>\n",
       "      <td>3</td>\n",
       "      <td>54</td>\n",
       "      <td>57</td>\n",
       "    </tr>\n",
       "    <tr>\n",
       "      <th>local_b</th>\n",
       "      <td>7</td>\n",
       "      <td>70</td>\n",
       "      <td>77</td>\n",
       "    </tr>\n",
       "    <tr>\n",
       "      <th>local_c</th>\n",
       "      <td>1</td>\n",
       "      <td>985</td>\n",
       "      <td>986</td>\n",
       "    </tr>\n",
       "  </tbody>\n",
       "</table>\n",
       "</div>"
      ],
      "text/plain": [
       "         cantidades_prod1  cantidades_prod2  totales\n",
       "local_a                 3                54       57\n",
       "local_b                 7                70       77\n",
       "local_c                 1               985      986"
      ]
     },
     "execution_count": 23,
     "metadata": {},
     "output_type": "execute_result"
    }
   ],
   "source": [
    "#Agregar al dataframe del paso anterior la columna 'total' cuyos datos sean el resultado de sumar las columnas 'cantidades_prod1' y 'cantidades_prod2'\n",
    "data_cantidades['totales']=data_cantidades.sum(axis=1)\n",
    "data_cantidades"
   ]
  },
  {
   "cell_type": "code",
   "execution_count": 24,
   "id": "af59177d",
   "metadata": {},
   "outputs": [
    {
     "data": {
      "text/html": [
       "<div>\n",
       "<style scoped>\n",
       "    .dataframe tbody tr th:only-of-type {\n",
       "        vertical-align: middle;\n",
       "    }\n",
       "\n",
       "    .dataframe tbody tr th {\n",
       "        vertical-align: top;\n",
       "    }\n",
       "\n",
       "    .dataframe thead th {\n",
       "        text-align: right;\n",
       "    }\n",
       "</style>\n",
       "<table border=\"1\" class=\"dataframe\">\n",
       "  <thead>\n",
       "    <tr style=\"text-align: right;\">\n",
       "      <th></th>\n",
       "      <th>cantidades_prod1</th>\n",
       "      <th>cantidades_prod2</th>\n",
       "      <th>totales</th>\n",
       "    </tr>\n",
       "  </thead>\n",
       "  <tbody>\n",
       "    <tr>\n",
       "      <th>local_a</th>\n",
       "      <td>3</td>\n",
       "      <td>54</td>\n",
       "      <td>57</td>\n",
       "    </tr>\n",
       "    <tr>\n",
       "      <th>local_b</th>\n",
       "      <td>7</td>\n",
       "      <td>70</td>\n",
       "      <td>77</td>\n",
       "    </tr>\n",
       "    <tr>\n",
       "      <th>local_c</th>\n",
       "      <td>1</td>\n",
       "      <td>985</td>\n",
       "      <td>986</td>\n",
       "    </tr>\n",
       "  </tbody>\n",
       "</table>\n",
       "</div>"
      ],
      "text/plain": [
       "         cantidades_prod1  cantidades_prod2  totales\n",
       "local_a                 3                54       57\n",
       "local_b                 7                70       77\n",
       "local_c                 1               985      986"
      ]
     },
     "execution_count": 24,
     "metadata": {},
     "output_type": "execute_result"
    }
   ],
   "source": [
    "#Mostrar los primeros dos registros de ese dataframe\n",
    "data_cantidades.head()"
   ]
  },
  {
   "cell_type": "code",
   "execution_count": 26,
   "id": "d91e7078",
   "metadata": {},
   "outputs": [
    {
     "data": {
      "text/html": [
       "<div>\n",
       "<style scoped>\n",
       "    .dataframe tbody tr th:only-of-type {\n",
       "        vertical-align: middle;\n",
       "    }\n",
       "\n",
       "    .dataframe tbody tr th {\n",
       "        vertical-align: top;\n",
       "    }\n",
       "\n",
       "    .dataframe thead th {\n",
       "        text-align: right;\n",
       "    }\n",
       "</style>\n",
       "<table border=\"1\" class=\"dataframe\">\n",
       "  <thead>\n",
       "    <tr style=\"text-align: right;\">\n",
       "      <th></th>\n",
       "      <th>cantidades_prod1</th>\n",
       "      <th>cantidades_prod2</th>\n",
       "      <th>totales</th>\n",
       "    </tr>\n",
       "  </thead>\n",
       "  <tbody>\n",
       "    <tr>\n",
       "      <th>local_a</th>\n",
       "      <td>3</td>\n",
       "      <td>54</td>\n",
       "      <td>57</td>\n",
       "    </tr>\n",
       "    <tr>\n",
       "      <th>local_b</th>\n",
       "      <td>7</td>\n",
       "      <td>70</td>\n",
       "      <td>77</td>\n",
       "    </tr>\n",
       "    <tr>\n",
       "      <th>local_c</th>\n",
       "      <td>1</td>\n",
       "      <td>985</td>\n",
       "      <td>986</td>\n",
       "    </tr>\n",
       "  </tbody>\n",
       "</table>\n",
       "</div>"
      ],
      "text/plain": [
       "         cantidades_prod1  cantidades_prod2  totales\n",
       "local_a                 3                54       57\n",
       "local_b                 7                70       77\n",
       "local_c                 1               985      986"
      ]
     },
     "execution_count": 26,
     "metadata": {},
     "output_type": "execute_result"
    }
   ],
   "source": [
    "#Mostrar los últimos dos registros de ese dataframe\n",
    "data_cantidades.tail()"
   ]
  },
  {
   "cell_type": "code",
   "execution_count": 31,
   "id": "a69892ee",
   "metadata": {},
   "outputs": [
    {
     "data": {
      "text/html": [
       "<div>\n",
       "<style scoped>\n",
       "    .dataframe tbody tr th:only-of-type {\n",
       "        vertical-align: middle;\n",
       "    }\n",
       "\n",
       "    .dataframe tbody tr th {\n",
       "        vertical-align: top;\n",
       "    }\n",
       "\n",
       "    .dataframe thead th {\n",
       "        text-align: right;\n",
       "    }\n",
       "</style>\n",
       "<table border=\"1\" class=\"dataframe\">\n",
       "  <thead>\n",
       "    <tr style=\"text-align: right;\">\n",
       "      <th></th>\n",
       "      <th>cantidades_prod1</th>\n",
       "      <th>cantidades_prod2</th>\n",
       "      <th>totales</th>\n",
       "    </tr>\n",
       "  </thead>\n",
       "  <tbody>\n",
       "    <tr>\n",
       "      <th>local_b</th>\n",
       "      <td>7</td>\n",
       "      <td>70</td>\n",
       "      <td>77</td>\n",
       "    </tr>\n",
       "    <tr>\n",
       "      <th>local_c</th>\n",
       "      <td>1</td>\n",
       "      <td>985</td>\n",
       "      <td>986</td>\n",
       "    </tr>\n",
       "  </tbody>\n",
       "</table>\n",
       "</div>"
      ],
      "text/plain": [
       "         cantidades_prod1  cantidades_prod2  totales\n",
       "local_b                 7                70       77\n",
       "local_c                 1               985      986"
      ]
     },
     "execution_count": 31,
     "metadata": {},
     "output_type": "execute_result"
    }
   ],
   "source": [
    "#Obtener los nombres de locales que tengan en total más de 60 productos\n",
    "mascara = data_cantidades['totales'] > 60\n",
    "data_cantidades[mascara]"
   ]
  }
 ],
 "metadata": {
  "kernelspec": {
   "display_name": "Python 3 (ipykernel)",
   "language": "python",
   "name": "python3"
  },
  "language_info": {
   "codemirror_mode": {
    "name": "ipython",
    "version": 3
   },
   "file_extension": ".py",
   "mimetype": "text/x-python",
   "name": "python",
   "nbconvert_exporter": "python",
   "pygments_lexer": "ipython3",
   "version": "3.9.7"
  }
 },
 "nbformat": 4,
 "nbformat_minor": 5
}
