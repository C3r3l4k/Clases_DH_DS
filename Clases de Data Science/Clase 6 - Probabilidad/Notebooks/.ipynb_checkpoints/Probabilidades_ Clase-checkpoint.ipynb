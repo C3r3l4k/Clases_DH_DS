{
 "cells": [
  {
   "cell_type": "code",
   "execution_count": 3,
   "id": "2bb9d6d8",
   "metadata": {},
   "outputs": [],
   "source": [
    "import numpy as np\n",
    "import seaborn as sns"
   ]
  },
  {
   "cell_type": "code",
   "execution_count": 4,
   "id": "5314cd6f",
   "metadata": {},
   "outputs": [
    {
     "name": "stdout",
     "output_type": "stream",
     "text": [
      "impar\n"
     ]
    }
   ],
   "source": [
    "opciones =['par','impar']\n",
    "\n",
    "if np.random.random() < 0.5:\n",
    "    print(opciones[0])\n",
    "else:\n",
    "    print(opciones[1])"
   ]
  },
  {
   "cell_type": "code",
   "execution_count": 30,
   "id": "1cca12eb",
   "metadata": {},
   "outputs": [],
   "source": [
    "def contar_n_muestras(nro_muestras,opciones = ['par','impar'], buscado = 'par'):\n",
    "    resultado = np.random.choice(opciones,nro_muestras)\n",
    "    coincidencias = resultado == buscado\n",
    "    return coincidencias.sum()\n",
    "    \n",
    "    \n",
    "def hacer_n_experimentos(nro_muestras,nro_experimentos, opciones = ['par','impar'], buscado = 'par'):\n",
    "    resultado = []\n",
    "    for i in range(nro_experimentos):\n",
    "        experimento = contar_n_muestras(nro_muestras, opciones = opciones, buscado =buscado)\n",
    "        resultado. append(experimento)\n",
    "    return resultado\n",
    "    "
   ]
  },
  {
   "cell_type": "code",
   "execution_count": 31,
   "id": "26b53f49",
   "metadata": {},
   "outputs": [
    {
     "data": {
      "text/plain": [
       "1"
      ]
     },
     "execution_count": 31,
     "metadata": {},
     "output_type": "execute_result"
    }
   ],
   "source": [
    "contar_n_muestras(4)"
   ]
  },
  {
   "cell_type": "code",
   "execution_count": 32,
   "id": "d30b93cd",
   "metadata": {},
   "outputs": [
    {
     "data": {
      "text/plain": [
       "[4, 3, 1, 2, 3, 1, 2, 0, 2, 3]"
      ]
     },
     "execution_count": 32,
     "metadata": {},
     "output_type": "execute_result"
    }
   ],
   "source": [
    "hacer_n_experimentos(4,10)"
   ]
  },
  {
   "cell_type": "code",
   "execution_count": 58,
   "id": "de9ebb7f",
   "metadata": {},
   "outputs": [
    {
     "name": "stderr",
     "output_type": "stream",
     "text": [
      "C:\\Users\\TZ182CG\\Anaconda3\\lib\\site-packages\\seaborn\\_decorators.py:36: FutureWarning: Pass the following variables as keyword args: x, y. From version 0.12, the only valid positional argument will be `data`, and passing other arguments without an explicit keyword will result in an error or misinterpretation.\n",
      "  warnings.warn(\n"
     ]
    },
    {
     "data": {
      "text/plain": [
       "<AxesSubplot:>"
      ]
     },
     "execution_count": 58,
     "metadata": {},
     "output_type": "execute_result"
    },
    {
     "data": {
      "image/png": "[encoded data removed]",
      "text/plain": [
       "<Figure size 432x288 with 1 Axes>"
      ]
     },
     "metadata": {
      "needs_background": "light"
     },
     "output_type": "display_data"
    }
   ],
   "source": [
    "nro_muestras = 20\n",
    "nro_experimentos = 10000\n",
    "exp = hacer_n_experimentos(nro_muestras,nro_experimentos)\n",
    "unique, counts = np.unique(exp, return_counts = True) ##podemos hacer esto, poner dos palabras a una funcion\n",
    "sns.barplot(unique,counts/counts.sum()*100)"
   ]
  },
  {
   "cell_type": "code",
   "execution_count": 61,
   "id": "fab1ea21",
   "metadata": {},
   "outputs": [
    {
     "data": {
      "text/plain": [
       "14.5"
      ]
     },
     "execution_count": 61,
     "metadata": {},
     "output_type": "execute_result"
    }
   ],
   "source": [
    "largos = [14.5, 14.5, 14.5,15,13.9,14.3,13.2,17.5,13.9,14.7,16.0,14.3,15.3,15.0,16.0,15.9,14.5,10.2,14.3,14.3,14.9,16.6,12.2,12.5]\n",
    "np.mean(largos)"
   ]
  },
  {
   "cell_type": "code",
   "execution_count": 63,
   "id": "fb723c20",
   "metadata": {},
   "outputs": [
    {
     "name": "stdout",
     "output_type": "stream",
     "text": [
      "[14.5 14.5 14.5 15.  13.9 14.3 13.2 17.5 13.9 14.7 16.  14.3 15.3 15.\n",
      " 16.  15.9 14.5 10.2 14.3 14.3 14.9 16.6 12.2 12.5]\n"
     ]
    },
    {
     "name": "stderr",
     "output_type": "stream",
     "text": [
      "C:\\Users\\TZ182CG\\Anaconda3\\lib\\site-packages\\seaborn\\_decorators.py:36: FutureWarning: Pass the following variables as keyword args: x, y. From version 0.12, the only valid positional argument will be `data`, and passing other arguments without an explicit keyword will result in an error or misinterpretation.\n",
      "  warnings.warn(\n"
     ]
    },
    {
     "data": {
      "text/plain": [
       "<AxesSubplot:>"
      ]
     },
     "execution_count": 63,
     "metadata": {},
     "output_type": "execute_result"
    },
    {
     "data": {
      "image/png": "[encoded data removed]",
      "text/plain": [
       "<Figure size 432x288 with 1 Axes>"
      ]
     },
     "metadata": {
      "needs_background": "light"
     },
     "output_type": "display_data"
    }
   ],
   "source": [
    "data = np.array(largos)\n",
    "print(data)\n",
    "unique,counts = np.unique(data,return_counts=True)\n",
    "sns.barplot(unique,counts/counts.sum())"
   ]
  },
  {
   "cell_type": "code",
   "execution_count": 65,
   "id": "aa103de7",
   "metadata": {},
   "outputs": [
    {
     "name": "stdout",
     "output_type": "stream",
     "text": [
      "[10.2 12.2 12.5 13.2 13.9 13.9 14.3 14.3 14.3 14.3 14.5 14.5 14.5 14.5\n",
      " 14.7 14.9 15.  15.  15.3 15.9 16.  16.  16.6 17.5]\n"
     ]
    }
   ],
   "source": [
    "data.sort()\n",
    "print(data)"
   ]
  },
  {
   "cell_type": "code",
   "execution_count": 67,
   "id": "6fe25790",
   "metadata": {},
   "outputs": [
    {
     "name": "stdout",
     "output_type": "stream",
     "text": [
      "[10.2 12.2 12.5 13.2 13.9 13.9 14.3 14.3 14.3 14.3 14.5 14.5 14.5 14.5\n",
      " 14.7 14.9 15.  15.  15.3 15.9 16.  16.  16.6 17.5]\n",
      "[ 0  1  2  3  4  5  6  7  8  9 10 11 12 13 14 15 16 17 18 19 20 21 22 23]\n"
     ]
    },
    {
     "name": "stderr",
     "output_type": "stream",
     "text": [
      "C:\\Users\\TZ182CG\\Anaconda3\\lib\\site-packages\\seaborn\\_decorators.py:36: FutureWarning: Pass the following variables as keyword args: x, y. From version 0.12, the only valid positional argument will be `data`, and passing other arguments without an explicit keyword will result in an error or misinterpretation.\n",
      "  warnings.warn(\n"
     ]
    },
    {
     "data": {
      "image/png": "[encoded data removed]",
      "text/plain": [
       "<Figure size 432x288 with 1 Axes>"
      ]
     },
     "metadata": {
      "needs_background": "light"
     },
     "output_type": "display_data"
    }
   ],
   "source": [
    "data.sort()\n",
    "print(data)\n",
    "x = np.arange(len(data))\n",
    "print(x)\n",
    "grafico = sns.scatterplot(x,data)"
   ]
  },
  {
   "cell_type": "code",
   "execution_count": 69,
   "id": "7491c7a4",
   "metadata": {},
   "outputs": [
    {
     "name": "stdout",
     "output_type": "stream",
     "text": [
      " La probabilidad de que le valor este entre 14 y 15 es 50.0%\n"
     ]
    },
    {
     "name": "stderr",
     "output_type": "stream",
     "text": [
      "C:\\Users\\TZ182CG\\Anaconda3\\lib\\site-packages\\seaborn\\_decorators.py:36: FutureWarning: Pass the following variables as keyword args: x, y. From version 0.12, the only valid positional argument will be `data`, and passing other arguments without an explicit keyword will result in an error or misinterpretation.\n",
      "  warnings.warn(\n"
     ]
    },
    {
     "data": {
      "text/plain": [
       "<matplotlib.lines.Line2D at 0x1b288fdbeb0>"
      ]
     },
     "execution_count": 69,
     "metadata": {},
     "output_type": "execute_result"
    },
    {
     "data": {
      "image/png": "[encoded data removed]",
      "text/plain": [
       "<Figure size 432x288 with 1 Axes>"
      ]
     },
     "metadata": {
      "needs_background": "light"
     },
     "output_type": "display_data"
    }
   ],
   "source": [
    "#Cual es pla probabilidad de que in lapiz mida entre 14 y 15 cm\n",
    "\n",
    "cota_sup = 15\n",
    "cota_inf = 14\n",
    "\n",
    "condicion = (cota_inf < data) & (data <= cota_sup)\n",
    "#la probabilidad son los casos favorables osbre los totales\n",
    "print(f' La probabilidad de que le valor este entre {cota_inf} y {cota_sup} es {condicion.sum()/len(condicion)*100}%')\n",
    "grafico = sns.scatterplot(x,data)\n",
    "grafico.axhline(cota_sup)\n",
    "grafico.axhline(cota_inf)"
   ]
  },
  {
   "cell_type": "code",
   "execution_count": 72,
   "id": "ee65d1df",
   "metadata": {},
   "outputs": [
    {
     "data": {
      "image/png": "[encoded data removed]",
      "text/plain": [
       "<Figure size 432x288 with 1 Axes>"
      ]
     },
     "metadata": {
      "needs_background": "light"
     },
     "output_type": "display_data"
    }
   ],
   "source": [
    "# Vamos a construir la probabilidad acumulada\n",
    "\n",
    "paso = 0.1\n",
    "\n",
    "probabilidad_acumulada =[]\n",
    "limite_inf = data.min()-paso\n",
    "\n",
    "for deslizador in np.arange(data.min()-paso,data.max()+paso,paso):\n",
    "    condicion = (limite_inf < data) & (data <= deslizador)\n",
    "    probabilidad_acumulada .append(condicion.sum()/len(condicion)*100)\n",
    "    \n",
    "grafico = sns.lineplot(no.arange(data.min()-paso, data.max()+paso,paso),probabilidad_acumulada)"
   ]
  },
  {
   "cell_type": "code",
   "execution_count": 76,
   "id": "dcc02f4a",
   "metadata": {},
   "outputs": [
    {
     "name": "stderr",
     "output_type": "stream",
     "text": [
      "C:\\Users\\TZ182CG\\Anaconda3\\lib\\site-packages\\seaborn\\_decorators.py:36: FutureWarning: Pass the following variables as keyword args: x, y. From version 0.12, the only valid positional argument will be `data`, and passing other arguments without an explicit keyword will result in an error or misinterpretation.\n",
      "  warnings.warn(\n"
     ]
    },
    {
     "data": {
      "image/png": "[encoded data removed]",
      "text/plain": [
       "<Figure size 432x288 with 1 Axes>"
      ]
     },
     "metadata": {
      "needs_background": "light"
     },
     "output_type": "display_data"
    }
   ],
   "source": [
    "# Vamos a construir la densidad de probabilidad\n",
    "paso=1\n",
    "densidad_probabilidad =[]\n",
    "\n",
    "for deslizador in np.arange(data.min()-paso,data.max()+paso,paso):\n",
    "    condicion = (deslizador - paso/2 < data) & (data <= deslizador + paso/2)\n",
    "    densidad_probabilidad.append(condicion.sum()/len(condicion)*100)\n",
    "\n",
    "grafico = sns.barplot(np.arange(data.min()-paso,data.max()+paso,paso),densidad_probabilidad)"
   ]
  }
 ],
 "metadata": {
  "kernelspec": {
   "display_name": "Python 3 (ipykernel)",
   "language": "python",
   "name": "python3"
  },
  "language_info": {
   "codemirror_mode": {
    "name": "ipython",
    "version": 3
   },
   "file_extension": ".py",
   "mimetype": "text/x-python",
   "name": "python",
   "nbconvert_exporter": "python",
   "pygments_lexer": "ipython3",
   "version": "3.9.7"
  }
 },
 "nbformat": 4,
 "nbformat_minor": 5
}
