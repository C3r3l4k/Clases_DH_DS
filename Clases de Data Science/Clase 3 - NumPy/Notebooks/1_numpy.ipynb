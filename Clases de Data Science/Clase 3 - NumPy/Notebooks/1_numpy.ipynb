{
 "cells": [
  {
   "cell_type": "markdown",
   "metadata": {
    "slideshow": {
     "slide_type": "slide"
    }
   },
   "source": [
    "# Numpy"
   ]
  },
  {
   "cell_type": "code",
   "execution_count": null,
   "metadata": {},
   "outputs": [],
   "source": [
    "%run \"../../../common/0_notebooks_base_setup.py\"\n",
    "from dhtest import test_2_numpy_vectorizacion"
   ]
  },
  {
   "cell_type": "markdown",
   "metadata": {
    "slideshow": {
     "slide_type": "slide"
    }
   },
   "source": [
    "<a id=\"section_toc\"></a> \n",
    "## Tabla de Contenidos\n",
    "\n",
    "[Intro](#section_intro)\n",
    "\n",
    "[Constructor](#section_constructor)\n",
    "\n",
    "[Métodos para la creación de arrays](#section_metodos_creacion)\n",
    "\n",
    "$\\hspace{.5cm}$[1. empty](#section_metodos_creacion_empty)\n",
    "\n",
    "$\\hspace{.5cm}$[2. zeros](#section_metodos_creacion_zeros)\n",
    "\n",
    "$\\hspace{.5cm}$[3. ones](#section_metodos_creacion_ones)\n",
    "\n",
    "$\\hspace{.5cm}$[4. random](#section_metodos_creacion_normal)\n",
    "\n",
    "[Atributos](#section_atributos)\n",
    "\n",
    "$\\hspace{.5cm}$[1. ndim](#section_atributos_ndim)\n",
    "\n",
    "$\\hspace{.5cm}$[2. shape](#section_atributos_shape)\n",
    "\n",
    "$\\hspace{.5cm}$[3. size](\"#section_atributos_size)\n",
    "\n",
    "$\\hspace{.5cm}$[4. dtype](#section_atributos_dtype)\n",
    "\n",
    "[Indexing](#section_indexing)\n",
    "\n",
    "$\\hspace{.5cm}$[1. Slicing](#section_indexing_slicing)\n",
    "\n",
    "$\\hspace{.5cm}$[2. Fancy Indexing](#section_indexing_fancy)\n",
    "\n",
    "$\\hspace{.5cm}$[3. Boolean Indexing](#section_indexing_boolean)\n",
    "\n",
    "\n",
    "---"
   ]
  },
  {
   "cell_type": "markdown",
   "metadata": {
    "slideshow": {
     "slide_type": "slide"
    },
    "toc-hr-collapsed": false
   },
   "source": [
    "\n",
    "## Numpy Array\n"
   ]
  },
  {
   "cell_type": "markdown",
   "metadata": {
    "slideshow": {
     "slide_type": "slide"
    }
   },
   "source": [
    "<a id=\"section_intro\"></a> \n",
    "###  Intro\n",
    "[volver a TOC](#section_toc)\n",
    "\n",
    "Un array es una estructura de datos que permite agrupar varios valores o elementos en una única variable (un único nombre).\n",
    "\n",
    "Los elementos de un array son todos del mismo tipo (a diferencia de las listas de Python).\n",
    "\n",
    "Los arrays de una y dos dimensiones tienen nombres propios:\n",
    "\n",
    "* un array unidimensional es un **vector**\n",
    "\n",
    "* un arreglo bidimensional es una **tabla** o **matriz**\n",
    "\n",
    "Los array de tres dimensiones o más se nombran N-dimensionales.\n",
    "\n",
    "\n",
    "![Image](img/numpy.jpg)\n",
    "\n",
    "---"
   ]
  },
  {
   "cell_type": "markdown",
   "metadata": {
    "slideshow": {
     "slide_type": "skip"
    }
   },
   "source": [
    "<a id=\"section_constructor\"></a> \n",
    "### Constructor\n",
    "[volver a TOC](#section_toc)\n",
    "\n",
    "#### Documentación \n",
    "https://docs.scipy.org/doc/numpy/reference/generated/numpy.array.html\n",
    "\n",
    "La forma más sencilla de construir un array es usando el constructor con un único parámetro:\n",
    "`numpy.array(object)`\n",
    "donde object es una colección de elementos\n"
   ]
  },
  {
   "cell_type": "markdown",
   "metadata": {
    "slideshow": {
     "slide_type": "skip"
    }
   },
   "source": [
    "Veamos un ejemplo:"
   ]
  },
  {
   "cell_type": "code",
   "execution_count": 3,
   "metadata": {
    "slideshow": {
     "slide_type": "skip"
    }
   },
   "outputs": [],
   "source": [
    "import numpy as np"
   ]
  },
  {
   "cell_type": "code",
   "execution_count": 5,
   "metadata": {
    "slideshow": {
     "slide_type": "skip"
    }
   },
   "outputs": [
    {
     "name": "stdout",
     "output_type": "stream",
     "text": [
      "[1 4 2 5 3]\n"
     ]
    }
   ],
   "source": [
    "# Lista de python\n",
    "python_list = [1, 4, 2, 5, 3]\n",
    "\n",
    "# Arreglo (array) de enteros instanciado a partir de una lista:\n",
    "my_numpy_array = np.array(python_list)\n",
    "\n",
    "# Imprimo el numpy array creado\n",
    "print(my_numpy_array)"
   ]
  },
  {
   "cell_type": "markdown",
   "metadata": {
    "slideshow": {
     "slide_type": "slide"
    }
   },
   "source": [
    "<a id=\"section_metodos_creacion\"></a> \n",
    "### Métodos para la creación de arrays\n",
    "[volver a TOC](#section_toc)\n",
    "\n",
    "#### Documentación \n",
    "https://docs.scipy.org/doc/numpy/reference/routines.array-creation.html\n",
    "\n",
    "Numpy provee métodos para crear e inicializar arrays con determinadas características. \n",
    "\n",
    "Podemos crear arrays vacíos, de ceros, de unos, con una secuencia, de valores aleatorios, de valores que sigan determinada distribución.\n",
    "\n"
   ]
  },
  {
   "cell_type": "markdown",
   "metadata": {
    "slideshow": {
     "slide_type": "skip"
    }
   },
   "source": [
    "A continuación vamos a ver un ejemplo de algunos de ellos.\n"
   ]
  },
  {
   "cell_type": "markdown",
   "metadata": {
    "slideshow": {
     "slide_type": "skip"
    }
   },
   "source": [
    "<a id=\"section_metodos_creacion_empty\"></a> \n",
    "#### Array vacío\n",
    "[volver a TOC](#section_toc)\n",
    "\n",
    "##### Documentación\n",
    "https://docs.scipy.org/doc/numpy/reference/generated/numpy.empty.html\n",
    "\n",
    "Recibe como parámetros: las dimensiones del array a crear como una tupla, y el tipo de datos de sus elementos.\n",
    "\n",
    "Devuelve un nuevo array de las dimensiones especificadas en la tupla que es el primer parámetro, **sin inicializar sus elementos**\n",
    "\n",
    "`numpy.empty(shape, dtype=float)`"
   ]
  },
  {
   "cell_type": "code",
   "execution_count": 7,
   "metadata": {
    "slideshow": {
     "slide_type": "skip"
    }
   },
   "outputs": [
    {
     "data": {
      "text/plain": [
       "array([[-1058971598,  -590288420],\n",
       "       [-1471789769,  1487178870]])"
      ]
     },
     "execution_count": 7,
     "metadata": {},
     "output_type": "execute_result"
    }
   ],
   "source": [
    "np.empty((2, 2), dtype=int)"
   ]
  },
  {
   "cell_type": "code",
   "execution_count": 8,
   "metadata": {
    "slideshow": {
     "slide_type": "skip"
    }
   },
   "outputs": [
    {
     "data": {
      "text/plain": [
       "array([[2.11395937e-307],\n",
       "       [2.33647015e-307],\n",
       "       [4.00542154e-307]])"
      ]
     },
     "execution_count": 8,
     "metadata": {},
     "output_type": "execute_result"
    }
   ],
   "source": [
    "np.empty((3, 1), dtype=float)"
   ]
  },
  {
   "cell_type": "code",
   "execution_count": 9,
   "metadata": {
    "slideshow": {
     "slide_type": "skip"
    }
   },
   "outputs": [
    {
     "data": {
      "text/plain": [
       "array([[ True,  True,  True]])"
      ]
     },
     "execution_count": 9,
     "metadata": {},
     "output_type": "execute_result"
    }
   ],
   "source": [
    "np.empty((1, 3), dtype=bool)"
   ]
  },
  {
   "cell_type": "markdown",
   "metadata": {
    "slideshow": {
     "slide_type": "skip"
    }
   },
   "source": [
    "<div id=\"caja1\" style=\"float:left;width: 100%;\">\n",
    "  <div style=\"float:left;width: 15%;\"><img src=\"../../../common/icons/para_seguir_pensando.png\" style=\"align:left\"/> </div>\n",
    "  <div style=\"float:left;width: 85%;\"><label>¿Qué elemento de la tupla indica la cantidad de filas? <br/> ¿Y la cantidad de columnas?</label></div>\n",
    "</div>"
   ]
  },
  {
   "cell_type": "markdown",
   "metadata": {
    "slideshow": {
     "slide_type": "skip"
    }
   },
   "source": [
    "<a id=\"section_metodos_creacion_zeros\"></a> \n",
    "#### Array de ceros\n",
    "[volver a TOC](#section_toc)\n",
    "\n",
    "Veremos cómo instanciar un array de ceros de las dimensiones especificadas.\n",
    "\n",
    "##### Documentación\n",
    "https://docs.scipy.org/doc/numpy/reference/generated/numpy.zeros.html#numpy.zeros\n",
    "\n",
    "Recibe como parámetros: las dimensiones del array a crear como una tupla, y el tipo de datos de sus elementos.\n",
    "\n",
    "`numpy.zeros(shape, dtype=float)`"
   ]
  },
  {
   "cell_type": "code",
   "execution_count": 10,
   "metadata": {
    "slideshow": {
     "slide_type": "skip"
    }
   },
   "outputs": [
    {
     "data": {
      "text/plain": [
       "array([0, 0, 0, 0, 0, 0, 0, 0, 0, 0])"
      ]
     },
     "execution_count": 10,
     "metadata": {},
     "output_type": "execute_result"
    }
   ],
   "source": [
    "np.zeros(10, dtype=int)"
   ]
  },
  {
   "cell_type": "code",
   "execution_count": 11,
   "metadata": {
    "slideshow": {
     "slide_type": "skip"
    }
   },
   "outputs": [
    {
     "data": {
      "text/plain": [
       "array([[0., 0.],\n",
       "       [0., 0.],\n",
       "       [0., 0.],\n",
       "       [0., 0.],\n",
       "       [0., 0.],\n",
       "       [0., 0.],\n",
       "       [0., 0.],\n",
       "       [0., 0.],\n",
       "       [0., 0.],\n",
       "       [0., 0.]])"
      ]
     },
     "execution_count": 11,
     "metadata": {},
     "output_type": "execute_result"
    }
   ],
   "source": [
    "np.zeros((10, 2), dtype=float)"
   ]
  },
  {
   "cell_type": "code",
   "execution_count": 12,
   "metadata": {
    "slideshow": {
     "slide_type": "skip"
    }
   },
   "outputs": [
    {
     "data": {
      "text/plain": [
       "array([['', ''],\n",
       "       ['', ''],\n",
       "       ['', ''],\n",
       "       ['', ''],\n",
       "       ['', ''],\n",
       "       ['', ''],\n",
       "       ['', ''],\n",
       "       ['', ''],\n",
       "       ['', ''],\n",
       "       ['', '']], dtype='<U1')"
      ]
     },
     "execution_count": 12,
     "metadata": {},
     "output_type": "execute_result"
    }
   ],
   "source": [
    "np.zeros((10, 2), dtype=str)"
   ]
  },
  {
   "cell_type": "markdown",
   "metadata": {
    "slideshow": {
     "slide_type": "skip"
    }
   },
   "source": [
    "<div id=\"caja2\" style=\"float:left;width: 100%;\">\n",
    "  <div style=\"float:left;width: 15%;\"><img src=\"../../../common/icons/haciendo_foco.png\" style=\"align:left\"/> </div>\n",
    "  <div style=\"float:left;width: 85%;\"><label>Observen las diferencias en los resultados de las dos últimas instrucciones, donde sólo cambiamos el tipo de datos de los elementos del array.</label></div>\n",
    "</div>"
   ]
  },
  {
   "cell_type": "markdown",
   "metadata": {
    "slideshow": {
     "slide_type": "skip"
    }
   },
   "source": [
    "<div id=\"caja3\" style=\"float:left;width: 100%;\">\n",
    "  <div style=\"float:left;width: 15%;\"><img src=\"../../../common/icons/bonus_track.png\" style=\"align:left\"/> </div>\n",
    "  <div style=\"float:left;width: 85%;\"><label> \n",
    "      <b>Opcional - Data type objects (dtype)</b><br/>\n",
    "      https://docs.scipy.org/doc/numpy/reference/arrays.dtypes.html<br/>\n",
    "      Un objeto data type (una instancia de la clase numpy.dtype) describe cómo deben interpretarse los bytes en el bloque de memoria de tamaño fijo que corresponde al item de un array<br/>\n",
    "<b>¿Qué significa dtype='&lt;U1'?</b>      \n",
    "      </label></div>\n",
    "</div>"
   ]
  },
  {
   "cell_type": "markdown",
   "metadata": {},
   "source": [
    "Instanciamos un objeto dtype:"
   ]
  },
  {
   "cell_type": "code",
   "execution_count": 13,
   "metadata": {
    "slideshow": {
     "slide_type": "skip"
    }
   },
   "outputs": [],
   "source": [
    "dt_array_item = np.dtype('<U1')"
   ]
  },
  {
   "cell_type": "markdown",
   "metadata": {
    "slideshow": {
     "slide_type": "skip"
    }
   },
   "source": [
    "Con `dt_array_item.type` vemos el tipo usado para instanciar a dt_array_item"
   ]
  },
  {
   "cell_type": "code",
   "execution_count": 14,
   "metadata": {
    "slideshow": {
     "slide_type": "skip"
    }
   },
   "outputs": [
    {
     "data": {
      "text/plain": [
       "numpy.str_"
      ]
     },
     "execution_count": 14,
     "metadata": {},
     "output_type": "execute_result"
    }
   ],
   "source": [
    "dt_array_item.type"
   ]
  },
  {
   "cell_type": "markdown",
   "metadata": {
    "slideshow": {
     "slide_type": "skip"
    }
   },
   "source": [
    "Entonces, dtype='<U1' nos indica que los items del array resultado son de tipo numpy.str_ (cadena de caracteres)"
   ]
  },
  {
   "cell_type": "markdown",
   "metadata": {
    "slideshow": {
     "slide_type": "skip"
    }
   },
   "source": [
    "<a id=\"section_metodos_creacion_ones\"></a> \n",
    "#### Array de unos\n",
    "[volver a TOC](#section_toc)\n",
    "\n",
    "Ahora veremos cómo instanciar un array de unos de las dimensiones especificadas.\n",
    "\n",
    "##### Documentación\n",
    "https://docs.scipy.org/doc/numpy/reference/generated/numpy.ones.html\n",
    "\n",
    "Recibe como parámetros: las dimensiones del array a crear como una tupla, y el tipo de datos de sus elementos.\n",
    "\n",
    "`numpy.ones(shape, dtype=float)`"
   ]
  },
  {
   "cell_type": "code",
   "execution_count": 15,
   "metadata": {
    "slideshow": {
     "slide_type": "skip"
    }
   },
   "outputs": [
    {
     "data": {
      "text/plain": [
       "array([[1, 1],\n",
       "       [1, 1],\n",
       "       [1, 1],\n",
       "       [1, 1],\n",
       "       [1, 1],\n",
       "       [1, 1],\n",
       "       [1, 1],\n",
       "       [1, 1],\n",
       "       [1, 1],\n",
       "       [1, 1]])"
      ]
     },
     "execution_count": 15,
     "metadata": {},
     "output_type": "execute_result"
    }
   ],
   "source": [
    "np.ones((10, 2), dtype=int)"
   ]
  },
  {
   "cell_type": "code",
   "execution_count": 16,
   "metadata": {
    "slideshow": {
     "slide_type": "skip"
    }
   },
   "outputs": [
    {
     "data": {
      "text/plain": [
       "array([[1., 1.],\n",
       "       [1., 1.],\n",
       "       [1., 1.],\n",
       "       [1., 1.],\n",
       "       [1., 1.],\n",
       "       [1., 1.],\n",
       "       [1., 1.],\n",
       "       [1., 1.],\n",
       "       [1., 1.],\n",
       "       [1., 1.]])"
      ]
     },
     "execution_count": 16,
     "metadata": {},
     "output_type": "execute_result"
    }
   ],
   "source": [
    "np.ones((10, 2), dtype=float)"
   ]
  },
  {
   "cell_type": "code",
   "execution_count": 17,
   "metadata": {
    "slideshow": {
     "slide_type": "skip"
    }
   },
   "outputs": [
    {
     "data": {
      "text/plain": [
       "array([['1', '1'],\n",
       "       ['1', '1'],\n",
       "       ['1', '1'],\n",
       "       ['1', '1'],\n",
       "       ['1', '1'],\n",
       "       ['1', '1'],\n",
       "       ['1', '1'],\n",
       "       ['1', '1'],\n",
       "       ['1', '1'],\n",
       "       ['1', '1']], dtype='<U1')"
      ]
     },
     "execution_count": 17,
     "metadata": {},
     "output_type": "execute_result"
    }
   ],
   "source": [
    "np.ones((10, 2), dtype=str)"
   ]
  },
  {
   "cell_type": "markdown",
   "metadata": {
    "slideshow": {
     "slide_type": "skip"
    }
   },
   "source": [
    "<div id=\"caja4\" style=\"float:left;width: 100%;\">\n",
    "  <div style=\"float:left;width: 15%;\"><img src=\"../../../common/icons/haciendo_foco.png\" style=\"align:left\"/> </div>\n",
    "  <div style=\"float:left;width: 85%;\"><label>Observen las diferencias en los tres resultados, donde sólo cambiamos el tipo de datos de los elementos del array.</label></div>\n",
    "</div>\n"
   ]
  },
  {
   "cell_type": "markdown",
   "metadata": {
    "slideshow": {
     "slide_type": "slide"
    }
   },
   "source": [
    "<a id=\"section_metodos_creacion_normal\"></a> \n",
    "#### Array de valores aleatorios con distribución normal\n",
    "[volver a TOC](#section_toc)\n",
    "\n",
    "Ahora veremos cómo instanciar un array de números aleatorios que siga una distribución normal\n",
    "\n",
    "##### Documentación\n",
    "https://docs.scipy.org/doc/numpy/reference/random/index.html\n",
    "\n",
    "https://docs.scipy.org/doc/numpy/reference/random/generator.html\n",
    "\n",
    "https://docs.scipy.org/doc/numpy/reference/random/generated/numpy.random.Generator.normal.html#numpy.random.Generator.normal\n",
    "\n",
    "El método que genera números aleatorios con distribución normal recibe como parámetros: la media, el desvio standard y las dimensiones del array de salida\n",
    "\n",
    "`Generator.normal(loc=0.0, scale=1.0, size=None)`\n",
    "\n",
    "Instanciamos una instancia default de Generator:"
   ]
  },
  {
   "cell_type": "code",
   "execution_count": 18,
   "metadata": {
    "slideshow": {
     "slide_type": "subslide"
    }
   },
   "outputs": [],
   "source": [
    "random_generator = np.random.default_rng()"
   ]
  },
  {
   "cell_type": "markdown",
   "metadata": {
    "slideshow": {
     "slide_type": "subslide"
    }
   },
   "source": [
    "Generamos ahora 12 números con distribución normal de media 0 y desvío standard 1:"
   ]
  },
  {
   "cell_type": "code",
   "execution_count": 23,
   "metadata": {
    "slideshow": {
     "slide_type": "subslide"
    }
   },
   "outputs": [
    {
     "data": {
      "text/plain": [
       "array([-0.0680263 ,  1.05330994, -0.93795999,  0.96326469,  0.22411166,\n",
       "        0.34541311, -0.46565747, -1.82696763, -0.23040435, -0.0810081 ,\n",
       "       -1.46685806, -1.07328359])"
      ]
     },
     "execution_count": 23,
     "metadata": {},
     "output_type": "execute_result"
    }
   ],
   "source": [
    "random_generator.normal(loc = 0, scale = 1, size = 12)"
   ]
  },
  {
   "cell_type": "markdown",
   "metadata": {
    "slideshow": {
     "slide_type": "subslide"
    }
   },
   "source": [
    "Ahora generamos una matriz de 16 filas y 4 columnas con números con distribución normal de media 0 y desvío standard 1:"
   ]
  },
  {
   "cell_type": "code",
   "execution_count": 27,
   "metadata": {
    "slideshow": {
     "slide_type": "subslide"
    }
   },
   "outputs": [
    {
     "data": {
      "text/plain": [
       "array([[ 8.58713657e-01, -4.41097912e-02, -1.45003679e-01,\n",
       "        -3.53326055e-01],\n",
       "       [ 2.52092141e+00,  1.54452619e-01, -8.26670375e-01,\n",
       "         1.38315905e-02],\n",
       "       [-6.24424849e-01,  2.56836205e-01, -1.70859318e-01,\n",
       "        -8.24671041e-01],\n",
       "       [-1.42830915e-01,  9.11807008e-01,  1.32612809e+00,\n",
       "        -5.10099400e-01],\n",
       "       [ 9.14924438e-01,  6.81376939e-01,  2.43398314e-01,\n",
       "         6.50120947e-02],\n",
       "       [-6.81488116e-01, -1.35011627e-01, -1.07464766e+00,\n",
       "        -2.30479459e+00],\n",
       "       [-9.41458394e-01, -1.01607304e+00, -1.70990099e+00,\n",
       "        -4.59813990e-01],\n",
       "       [-9.88932126e-04,  3.99494743e-01, -1.12310421e+00,\n",
       "         1.85369316e-01],\n",
       "       [ 1.28478926e-01, -3.73236853e-02,  8.36546346e-01,\n",
       "        -6.57486096e-01],\n",
       "       [ 2.91619213e-02,  1.03026830e+00,  2.49106492e-02,\n",
       "         9.27501003e-01],\n",
       "       [ 8.07864064e-01,  2.36335406e-01, -7.25426246e-01,\n",
       "        -8.59729688e-01],\n",
       "       [-1.14453183e+00, -2.32509609e-02, -1.41989409e+00,\n",
       "         1.42814335e+00],\n",
       "       [-7.85422848e-01, -1.36628968e+00,  1.66455348e+00,\n",
       "         2.99161427e-01],\n",
       "       [-3.06287605e-01,  1.06039115e+00, -6.51075831e-01,\n",
       "        -8.75198281e-01],\n",
       "       [-5.50023363e-01,  7.65615490e-01,  5.68313979e-01,\n",
       "         4.22441387e-01],\n",
       "       [-3.52884086e-01,  7.94701972e-01, -4.13232164e-01,\n",
       "         1.00605891e+00]])"
      ]
     },
     "execution_count": 27,
     "metadata": {},
     "output_type": "execute_result"
    }
   ],
   "source": [
    " random_generator.normal(0, 1, size = (16,4))"
   ]
  },
  {
   "cell_type": "markdown",
   "metadata": {
    "slideshow": {
     "slide_type": "slide"
    }
   },
   "source": [
    "Observen que cada vez que ejecutamos esta linea `random_generator.normal(loc = 0, scale = 1, size = 12)` obtenemos valores diferentes para los elementos del array.\n",
    "\n",
    "Prueben ejecutarla tres o cuatro veces...\n",
    "\n",
    "Lo mismo ocurre con `random_generator.normal(0, 1, size = (16,4))`\n",
    "\n",
    "Si queremos obtener el mismo resultado en todas las ejecuciones, debemos inicializar la semilla del generador de números aleatorios.\n",
    "\n",
    "Para eso hacemos inicializamos la instancia de `Generator` con una semilla cualquiera pero fija:"
   ]
  },
  {
   "cell_type": "code",
   "execution_count": 28,
   "metadata": {
    "slideshow": {
     "slide_type": "subslide"
    }
   },
   "outputs": [],
   "source": [
    "seed_cualquier_numero = 2843\n",
    "random_generator_seed = np.random.default_rng(seed_cualquier_numero)"
   ]
  },
  {
   "cell_type": "markdown",
   "metadata": {
    "slideshow": {
     "slide_type": "slide"
    }
   },
   "source": [
    "Y ahora ejecutemos varias veces las mismas lineas que probamos arriba, usando el objeto random_generator_seed inicializado con una semilla determinada:"
   ]
  },
  {
   "cell_type": "code",
   "execution_count": 34,
   "metadata": {
    "slideshow": {
     "slide_type": "skip"
    }
   },
   "outputs": [
    {
     "data": {
      "text/plain": [
       "array([ 0.770969  ,  0.33288743, -0.7145752 ,  0.05428423, -1.44839055,\n",
       "        0.05562249,  0.04235933, -1.06432701,  3.23668651, -2.61427606,\n",
       "        0.17057975, -0.11374496])"
      ]
     },
     "execution_count": 34,
     "metadata": {},
     "output_type": "execute_result"
    }
   ],
   "source": [
    "random_generator_seed = np.random.default_rng(seed_cualquier_numero)\n",
    "random_generator_seed.normal(loc = 0, scale = 1, size = 12)"
   ]
  },
  {
   "cell_type": "code",
   "execution_count": 3,
   "metadata": {
    "slideshow": {
     "slide_type": "skip"
    }
   },
   "outputs": [
    {
     "ename": "NameError",
     "evalue": "name 'seed_cualquier_numero' is not defined",
     "output_type": "error",
     "traceback": [
      "\u001b[1;31m---------------------------------------------------------------------------\u001b[0m",
      "\u001b[1;31mNameError\u001b[0m                                 Traceback (most recent call last)",
      "\u001b[1;32m~\\AppData\\Local\\Temp/ipykernel_11392/3492422832.py\u001b[0m in \u001b[0;36m<module>\u001b[1;34m\u001b[0m\n\u001b[1;32m----> 1\u001b[1;33m \u001b[0mrandom_generator_seed\u001b[0m \u001b[1;33m=\u001b[0m \u001b[0mnp\u001b[0m\u001b[1;33m.\u001b[0m\u001b[0mrandom\u001b[0m\u001b[1;33m.\u001b[0m\u001b[0mdefault_rng\u001b[0m\u001b[1;33m(\u001b[0m\u001b[0mseed_cualquier_numero\u001b[0m\u001b[1;33m)\u001b[0m\u001b[1;33m\u001b[0m\u001b[1;33m\u001b[0m\u001b[0m\n\u001b[0m\u001b[0;32m      2\u001b[0m \u001b[0mrandom_generator_seed\u001b[0m\u001b[1;33m.\u001b[0m\u001b[0mnormal\u001b[0m\u001b[1;33m(\u001b[0m\u001b[1;36m0\u001b[0m\u001b[1;33m,\u001b[0m \u001b[1;36m1\u001b[0m\u001b[1;33m,\u001b[0m \u001b[0msize\u001b[0m \u001b[1;33m=\u001b[0m \u001b[1;33m(\u001b[0m\u001b[1;36m16\u001b[0m\u001b[1;33m,\u001b[0m\u001b[1;36m4\u001b[0m\u001b[1;33m)\u001b[0m\u001b[1;33m)\u001b[0m\u001b[1;33m\u001b[0m\u001b[1;33m\u001b[0m\u001b[0m\n",
      "\u001b[1;31mNameError\u001b[0m: name 'seed_cualquier_numero' is not defined"
     ]
    }
   ],
   "source": [
    "random_generator_seed = np.random.default_rng(seed_cualquier_numero)\n",
    "random_generator_seed.normal(0, 1, size = (16,4))"
   ]
  },
  {
   "cell_type": "markdown",
   "metadata": {
    "slideshow": {
     "slide_type": "skip"
    }
   },
   "source": [
    "¿Notaron que ahora **no cambia** el resultado en cada ejecucuión?"
   ]
  },
  {
   "cell_type": "markdown",
   "metadata": {
    "slideshow": {
     "slide_type": "skip"
    }
   },
   "source": [
    "<div id=\"caja5\" style=\"float:left;width: 100%;\">\n",
    "  <div style=\"float:left;width: 15%;\"><img src=\"../../../common/icons/ponete_a_prueba.png\" style=\"align:left\"/> </div>\n",
    "  <div style=\"float:left;width: 85%;\"><label>\n",
    "      <b>Ejercicio 1</b>\n",
    "    \n",
    "Usando como semilla el numero 2843, construyan un objeto array de Numpy con 500 números aleatorios de distribución binomial con n = 100 y p = 0.7\n",
    "    \n",
    "Ayuda: https://docs.scipy.org/doc/numpy/reference/random/generated/numpy.random.Generator.binomial.html#numpy.random.Generator.binomial\n",
    "      \n",
    "Completen el código de la función random_binomial():</label></div>\n",
    "</div>"
   ]
  },
  {
   "cell_type": "code",
   "execution_count": 4,
   "metadata": {
    "slideshow": {
     "slide_type": "skip"
    }
   },
   "outputs": [
    {
     "ename": "NameError",
     "evalue": "name 'random_generator_seed' is not defined",
     "output_type": "error",
     "traceback": [
      "\u001b[1;31m---------------------------------------------------------------------------\u001b[0m",
      "\u001b[1;31mNameError\u001b[0m                                 Traceback (most recent call last)",
      "\u001b[1;32m~\\AppData\\Local\\Temp/ipykernel_11392/811450902.py\u001b[0m in \u001b[0;36m<module>\u001b[1;34m\u001b[0m\n\u001b[0;32m      7\u001b[0m     \u001b[1;32mreturn\u001b[0m\u001b[1;33m(\u001b[0m\u001b[0mresult\u001b[0m\u001b[1;33m)\u001b[0m\u001b[1;33m\u001b[0m\u001b[1;33m\u001b[0m\u001b[0m\n\u001b[0;32m      8\u001b[0m \u001b[1;33m\u001b[0m\u001b[0m\n\u001b[1;32m----> 9\u001b[1;33m \u001b[0mresultado\u001b[0m \u001b[1;33m=\u001b[0m \u001b[0mrandom_binomial\u001b[0m\u001b[1;33m(\u001b[0m\u001b[1;33m)\u001b[0m\u001b[1;33m\u001b[0m\u001b[1;33m\u001b[0m\u001b[0m\n\u001b[0m\u001b[0;32m     10\u001b[0m \u001b[0mresultado\u001b[0m\u001b[1;33m\u001b[0m\u001b[1;33m\u001b[0m\u001b[0m\n",
      "\u001b[1;32m~\\AppData\\Local\\Temp/ipykernel_11392/811450902.py\u001b[0m in \u001b[0;36mrandom_binomial\u001b[1;34m()\u001b[0m\n\u001b[0;32m      3\u001b[0m \u001b[1;32mdef\u001b[0m \u001b[0mrandom_binomial\u001b[0m\u001b[1;33m(\u001b[0m\u001b[1;33m)\u001b[0m\u001b[1;33m:\u001b[0m\u001b[1;33m\u001b[0m\u001b[1;33m\u001b[0m\u001b[0m\n\u001b[0;32m      4\u001b[0m \u001b[1;33m\u001b[0m\u001b[0m\n\u001b[1;32m----> 5\u001b[1;33m     \u001b[0mrandom_generator_seed\u001b[0m\u001b[1;33m.\u001b[0m\u001b[0mbinomial\u001b[0m\u001b[1;33m(\u001b[0m\u001b[1;36m100\u001b[0m\u001b[1;33m,\u001b[0m \u001b[1;36m0.7\u001b[0m\u001b[1;33m,\u001b[0m \u001b[0msize\u001b[0m \u001b[1;33m=\u001b[0m \u001b[1;33m(\u001b[0m\u001b[1;36m20\u001b[0m\u001b[1;33m,\u001b[0m\u001b[1;36m25\u001b[0m\u001b[1;33m)\u001b[0m\u001b[1;33m)\u001b[0m\u001b[1;33m\u001b[0m\u001b[1;33m\u001b[0m\u001b[0m\n\u001b[0m\u001b[0;32m      6\u001b[0m     \u001b[0mresult\u001b[0m \u001b[1;33m=\u001b[0m \u001b[1;33m[\u001b[0m\u001b[1;33m]\u001b[0m\u001b[1;33m\u001b[0m\u001b[1;33m\u001b[0m\u001b[0m\n\u001b[0;32m      7\u001b[0m     \u001b[1;32mreturn\u001b[0m\u001b[1;33m(\u001b[0m\u001b[0mresult\u001b[0m\u001b[1;33m)\u001b[0m\u001b[1;33m\u001b[0m\u001b[1;33m\u001b[0m\u001b[0m\n",
      "\u001b[1;31mNameError\u001b[0m: name 'random_generator_seed' is not defined"
     ]
    }
   ],
   "source": [
    "import numpy as np\n",
    "\n",
    "def random_binomial():\n",
    "    \n",
    "    random_generator_seed.binomial(100, 0.7, size = (20,25))\n",
    "    result = []\n",
    "    return(result)\n",
    "\n",
    "resultado = random_binomial()\n",
    "resultado\n"
   ]
  },
  {
   "cell_type": "markdown",
   "metadata": {
    "slideshow": {
     "slide_type": "skip"
    }
   },
   "source": [
    "<a id=\"section_atributos\"></a> \n",
    "### Atributos\n",
    "[volver a TOC](#section_toc)\n",
    "\n",
    "#### Documentación\n",
    "\n",
    "https://docs.scipy.org/doc/numpy/reference/arrays.ndarray.html#array-attributes\n",
    "\n",
    "Vamos a ver ahora ejemplos de atributos de un array de tres dimensiones, con numeros aleatorios de distribución uniforme de tamaño 3 * 4 * 5\n",
    "\n",
    "Generador de números aleatorios con distribución uniforme:\n",
    "\n",
    "https://docs.scipy.org/doc/numpy/reference/random/generated/numpy.random.Generator.uniform.html#numpy.random.Generator.uniform"
   ]
  },
  {
   "cell_type": "code",
   "execution_count": 41,
   "metadata": {
    "slideshow": {
     "slide_type": "skip"
    }
   },
   "outputs": [
    {
     "data": {
      "text/plain": [
       "array([[[32.88947629, 16.94855803, 42.83670351, 30.25105684,\n",
       "         28.20491852],\n",
       "        [25.18521523, 40.18344021, 34.34396248, 49.42877817,\n",
       "         25.9067247 ],\n",
       "        [49.96435545, 39.05367532, 25.72967186, 40.81169652,\n",
       "         14.0724828 ],\n",
       "        [41.55501295, 21.67492545, 22.49339028, 25.49163559,\n",
       "         26.50349253]],\n",
       "\n",
       "       [[40.72705982, 28.63930892, 18.02914832, 27.35671068,\n",
       "         38.97125442],\n",
       "        [16.66917961, 46.25005127, 30.72094445, 48.47205286,\n",
       "         15.6034732 ],\n",
       "        [11.79424167, 40.67551164, 21.90868009, 19.00439909,\n",
       "         23.67958317],\n",
       "        [10.55338987, 35.92638548, 15.26580613, 12.67264131,\n",
       "         37.95862821]],\n",
       "\n",
       "       [[24.33023875, 49.46354377, 48.15236324, 14.74696516,\n",
       "         23.94498762],\n",
       "        [19.34227574, 12.22724432, 13.35657914, 42.88661071,\n",
       "         26.11646608],\n",
       "        [29.62041973, 17.17235157, 36.46619752, 31.23546738,\n",
       "         17.94252221],\n",
       "        [38.58722823, 19.18467869, 35.2361267 , 34.25595785,\n",
       "         28.76845958]]])"
      ]
     },
     "execution_count": 41,
     "metadata": {},
     "output_type": "execute_result"
    }
   ],
   "source": [
    "random_generator_seed = np.random.default_rng(seed_cualquier_numero)\n",
    "low = 10 #incluye el limite inferior\n",
    "high = 50 # no incluye el límite superior\n",
    "size = (3, 4, 5)\n",
    "array_3D = random_generator_seed.uniform(low, high, size)\n",
    "array_3D"
   ]
  },
  {
   "cell_type": "markdown",
   "metadata": {
    "slideshow": {
     "slide_type": "slide"
    }
   },
   "source": [
    "<a id=\"section_atributos_ndim\"></a> \n",
    "#### ndim\n",
    "[volver a TOC](#section_toc)\n",
    "\n",
    "Cantidad de dimensiones del array"
   ]
  },
  {
   "cell_type": "code",
   "execution_count": null,
   "metadata": {},
   "outputs": [],
   "source": [
    "array_3D.ndim"
   ]
  },
  {
   "cell_type": "markdown",
   "metadata": {
    "slideshow": {
     "slide_type": "slide"
    }
   },
   "source": [
    "<a id=\"section_atributos_shape\"></a> \n",
    "#### shape\n",
    "[volver a TOC](#section_toc)\n",
    "\n",
    "Tupla con las dimensiones del array"
   ]
  },
  {
   "cell_type": "code",
   "execution_count": null,
   "metadata": {},
   "outputs": [],
   "source": [
    "array_3D.shape"
   ]
  },
  {
   "cell_type": "code",
   "execution_count": null,
   "metadata": {},
   "outputs": [],
   "source": [
    "type(array_3D.shape)"
   ]
  },
  {
   "cell_type": "markdown",
   "metadata": {},
   "source": [
    "> Observación: `len(array_3D.shape) == array_3D.ndim`"
   ]
  },
  {
   "cell_type": "markdown",
   "metadata": {
    "slideshow": {
     "slide_type": "slide"
    }
   },
   "source": [
    "<a id=\"section_atributos_size\"></a> \n",
    "#### size\n",
    "[volver a TOC](#section_toc)\n",
    "\n",
    "Cantidad de elementos en el array"
   ]
  },
  {
   "cell_type": "code",
   "execution_count": null,
   "metadata": {},
   "outputs": [],
   "source": [
    "array_3D.size"
   ]
  },
  {
   "cell_type": "markdown",
   "metadata": {},
   "source": [
    "> Observación: `np.prod(array_3D.shape) == array_3D.size`\n",
    ">\n",
    "> `np.prod` multiplica todos los elementos en la tupla"
   ]
  },
  {
   "cell_type": "markdown",
   "metadata": {
    "slideshow": {
     "slide_type": "slide"
    }
   },
   "source": [
    "<a id=\"section_atributos_dtype\"></a> \n",
    "#### dtype\n",
    "[volver a TOC](#section_toc)\n",
    "\n",
    "Tipo de datos de los elementos que componen el array"
   ]
  },
  {
   "cell_type": "code",
   "execution_count": null,
   "metadata": {},
   "outputs": [],
   "source": [
    "array_3D.dtype"
   ]
  },
  {
   "cell_type": "markdown",
   "metadata": {
    "slideshow": {
     "slide_type": "slide"
    }
   },
   "source": [
    "<a id=\"section_indexing\"></a> \n",
    "### Indexing\n",
    "[volver a TOC](#section_toc)\n",
    "\n",
    "Un problema común es seleccionar los elementos de un array de acuerdo a algún criterio. \n",
    "\n",
    "Llamamos \"indexing\" a la operación que resuelve el problema de acceder a los elementos de un array con algún criterio. \n",
    "\n",
    "Existen tres tipos de indexing en Numpy:\n",
    "\n",
    "* **Array Slicing**: accedemos a los elementos con los parámetros start,stop,step. \n",
    "Por ejemplo `my_array[0:5:-1]`\n",
    "\n",
    "* **Fancy Indexing**: creamos una lista de índices y la usamos para acceder a ciertos elementos del array:  `my_array[[3,5,7,8]]`\n",
    "\n",
    "* **Boolean Indexing**: creamos una \"máscara booleana\" (un array o lista de True y False) para acceder a ciertos elementos: `my_array[my_array > 4]`\n",
    "\n",
    "\n",
    "<a id=\"section_indexing_slicing\"></a>\n",
    "#### Array Slicing \n",
    "[volver a TOC](#section_toc)\n",
    "\n",
    "##### Slicing sobre una dimensión\n",
    "\n",
    "El slicing es similar al de las listas de python [start:stop:step]. \n",
    "\n",
    "El índice stop no se incluye pero el start sí se incluye. \n",
    "\n",
    "Por ejemplo [1:3] incluye al índice 1 pero no al 3.\n",
    "\n",
    "Funciona como un intervalo semicerrado [1,3).\n",
    "\n",
    "Si necesitan refrescar cómo funciona el slicing en listas pueden ver https://stackoverflow.com/questions/509211/understanding-slice-notation\n",
    "\n",
    "\n",
    "![Image](img/numpy_indexing.jpg)\n",
    "\n"
   ]
  },
  {
   "cell_type": "markdown",
   "metadata": {
    "slideshow": {
     "slide_type": "skip"
    }
   },
   "source": [
    "Veamos algunos ejemplo:\n",
    "\n",
    "Creamos un array de una dimensión usando el método\n",
    "`np.arange` que devuelve valores espaciados uniformemente dentro de un intervalo dado.\n",
    "\n",
    "https://docs.scipy.org/doc/numpy/reference/generated/numpy.arange.html"
   ]
  },
  {
   "cell_type": "code",
   "execution_count": null,
   "metadata": {
    "slideshow": {
     "slide_type": "skip"
    }
   },
   "outputs": [],
   "source": [
    "# Sobre un array de una dimension con números enteros entre 0 y 9:\n",
    "one_d_array = np.arange(10)\n",
    "one_d_array"
   ]
  },
  {
   "cell_type": "code",
   "execution_count": null,
   "metadata": {
    "slideshow": {
     "slide_type": "skip"
    }
   },
   "outputs": [],
   "source": [
    "# Start = 1:  empezamos por el segundo elemento\n",
    "# Stop: No está definido, entonces llegamos hasta el final.\n",
    "# Step: El paso o distancia entre los elementos es 2.\n",
    "one_d_array[1::2]  "
   ]
  },
  {
   "cell_type": "code",
   "execution_count": null,
   "metadata": {
    "slideshow": {
     "slide_type": "skip"
    }
   },
   "outputs": [],
   "source": [
    "# Start: No está definido, entonces comenzamos desde el primero.\n",
    "# Stop: No está definido, entonces llegamos hasta el final.\n",
    "# Step = -1, para invertir el orden del array\n",
    "one_d_array[::-1]"
   ]
  },
  {
   "cell_type": "code",
   "execution_count": null,
   "metadata": {
    "slideshow": {
     "slide_type": "skip"
    }
   },
   "outputs": [],
   "source": [
    "# Si queremos hacer slicing en orden invertido\n",
    "one_d_array[7:2:-1]  "
   ]
  },
  {
   "cell_type": "markdown",
   "metadata": {},
   "source": [
    "##### Slicing sobre arrays de más  dimensiones\n",
    "\n",
    "Cuando tenemos más de una dimensión, podemos hacer slicing sobre cada una de ellas separándolas con una coma. \n",
    "\n",
    "Veamos algunos ejemplos:"
   ]
  },
  {
   "cell_type": "code",
   "execution_count": null,
   "metadata": {},
   "outputs": [],
   "source": [
    "random_generator_seed = np.random.default_rng(seed_cualquier_numero)\n",
    "low = 0 #incluye el limite inferior\n",
    "high = 10 # no incluye el límite superior\n",
    "size = (3, 4)\n",
    "two_d_array = random_generator_seed.uniform(low, high, size)\n",
    "two_d_array"
   ]
  },
  {
   "cell_type": "code",
   "execution_count": null,
   "metadata": {},
   "outputs": [],
   "source": [
    "# Los dos puntos ( : ) indican que accedemos a todos los elementos de cada fila \n",
    "# y el cero después de la coma indica que sólamente lo hacemos para la columna 0 (la primera).\n",
    "two_d_array[:, 0]"
   ]
  },
  {
   "cell_type": "code",
   "execution_count": null,
   "metadata": {},
   "outputs": [],
   "source": [
    "# Accedemos a la tercer fila\n",
    "two_d_array[2, :]"
   ]
  },
  {
   "cell_type": "code",
   "execution_count": null,
   "metadata": {},
   "outputs": [],
   "source": [
    "# Otra forma de acceder a la tercer fila\n",
    "two_d_array[2]"
   ]
  },
  {
   "cell_type": "code",
   "execution_count": null,
   "metadata": {},
   "outputs": [],
   "source": [
    "# Todas la filas, un slice de la segunda y tercer columna (índices 1 y 2)\n",
    "two_d_array[:, 1:3]"
   ]
  },
  {
   "cell_type": "code",
   "execution_count": null,
   "metadata": {},
   "outputs": [],
   "source": [
    "# todas las filas, todas las columnas listadas en orden inverso\n",
    "two_d_array[:, ::-1]"
   ]
  },
  {
   "cell_type": "markdown",
   "metadata": {
    "slideshow": {
     "slide_type": "slide"
    }
   },
   "source": [
    "\n",
    "<a id=\"section_indexing_fancy\"></a> \n",
    "#### Fancy Indexing\n",
    "[volver a TOC](#section_toc)\n",
    "\n",
    "Esta técnica consiste en generar listas que contienen los índices de los elementos que queremos seleccionar y utilizar estas listas para indexar.\n",
    "\n",
    "Veamos algunos ejemplos:"
   ]
  },
  {
   "cell_type": "code",
   "execution_count": null,
   "metadata": {},
   "outputs": [],
   "source": [
    "# nos quedamos con todas las columnas y las filas 1, 3, 2 y repetimos la 1 (índices 0,2,1,0)\n",
    "lista_indices_filas = [0, 2, 1, 0]\n",
    "two_d_array[lista_indices_filas]"
   ]
  },
  {
   "cell_type": "code",
   "execution_count": null,
   "metadata": {},
   "outputs": [],
   "source": [
    "# nos quedamos con todas las filas y las columnas 3, 4, 2, y reptimos la 3 (índices 2,3,1,2)\n",
    "lista_indices_columnas = [2, 3, 1, 2]\n",
    "two_d_array[:, lista_indices_columnas]"
   ]
  },
  {
   "cell_type": "code",
   "execution_count": null,
   "metadata": {},
   "outputs": [],
   "source": [
    "# y ahora seleccionamos tanto filas como columnas, combinando los dos casos anteriores\n",
    "two_d_array[lista_indices_filas, lista_indices_columnas]"
   ]
  },
  {
   "cell_type": "markdown",
   "metadata": {},
   "source": [
    "Observemos que al pasar las dos listas, estamos seleccionando los elementos\n",
    "(0, 2), (2, 3), (1, 1) y (0,2)\n",
    "\n",
    "Se cumple que `indice_elem_i = (lista_indices_filas[i], lista_indices_columnas[i])`"
   ]
  },
  {
   "cell_type": "markdown",
   "metadata": {
    "slideshow": {
     "slide_type": "slide"
    }
   },
   "source": [
    "<a id=\"section_indexing_boolean\"></a> \n",
    "#### Boolean Indexing\n",
    "[volver a TOC](#section_toc)\n",
    "\n",
    "Esta técnica se basa en crear una \"máscara booleana\", que es una lista de valores True y False que sirve para seleccionar sólo los elementos cuyo índice coincide con un valor True.  \n",
    "\n",
    "Veamos algunos ejemplos sobre two_d_array:"
   ]
  },
  {
   "cell_type": "code",
   "execution_count": null,
   "metadata": {},
   "outputs": [],
   "source": [
    "two_d_array"
   ]
  },
  {
   "cell_type": "markdown",
   "metadata": {},
   "source": [
    "Vamos a seleccionar los elementos que sean mayores que 5. Para esos creamos uma máscara con esa condición:"
   ]
  },
  {
   "cell_type": "code",
   "execution_count": null,
   "metadata": {},
   "outputs": [],
   "source": [
    "mask_great_5 = two_d_array > 5\n",
    "mask_great_5"
   ]
  },
  {
   "cell_type": "markdown",
   "metadata": {},
   "source": [
    "La máscara tiene valor True en aquellos elementos de two_d_array con valor mayor a 5, y False en los que tienen valor menor o igual que 5.\n",
    "\n",
    "Ahora usemos esa máscara para seleccionar los elementos que cumplen esa condición, o sea los que tienen valor True en la máscara:"
   ]
  },
  {
   "cell_type": "code",
   "execution_count": null,
   "metadata": {},
   "outputs": [],
   "source": [
    "two_d_array[mask_great_5]"
   ]
  },
  {
   "cell_type": "markdown",
   "metadata": {},
   "source": [
    "Definamos ahora una condición más compleja: vamos a seleccionar los elementos que sean mayores que 5 y menores que 8"
   ]
  },
  {
   "cell_type": "code",
   "execution_count": null,
   "metadata": {},
   "outputs": [],
   "source": [
    "mask_great_5_less_8 = (two_d_array > 5) & (two_d_array < 8)\n",
    "mask_great_5_less_8"
   ]
  },
  {
   "cell_type": "markdown",
   "metadata": {},
   "source": [
    "Ahora usemos esa máscara para seleccionar los elementos que cumplen esa condición, o sea los que tienen valor True en la máscara:"
   ]
  },
  {
   "cell_type": "code",
   "execution_count": null,
   "metadata": {},
   "outputs": [],
   "source": [
    "two_d_array[mask_great_5_less_8]"
   ]
  },
  {
   "cell_type": "markdown",
   "metadata": {},
   "source": [
    "<div id=\"caja6\" style=\"float:left;width: 100%;\">\n",
    "  <div style=\"float:left;width: 15%;\"><img src=\"../../../common/icons/en_resumen.png\" style=\"align:left\"/> </div>\n",
    "  <div style=\"float:left;width: 85%;\"><label>Como podemos ver, la dificultad de la selección está en la definición de la máscara, que puede llegar a ser bastante compleja. Pero una vez que está calculada, el filtro es idéntico independientemente de la cantidad de condiciones que están involucradas en su definición, y la dimensión del array a filtar.</label></div>\n",
    "</div>"
   ]
  },
  {
   "cell_type": "markdown",
   "metadata": {},
   "source": [
    "<div id=\"caja10\" style=\"float:left;width: 100%;\">\n",
    "  <div style=\"float:left;width: 15%;\"><img src=\"../../../common/icons/ponete_a_prueba.png\" style=\"align:left\"/> </div>\n",
    "  <div style=\"float:left;width: 85%;\"><label>\n",
    "\n",
    "\n",
    "\n",
    "\n",
    "\n",
    "<b>Ejercicio 2</b>\n",
    "\n",
    "Tenemos un dataset que representa la cantidad de precipitaciones del 2014 en la ciudad de Seattle\n",
    "\n",
    "La cantidad de precipitaciones está en la **cuarta** columna, completa el código de una función que reciba el dataset y devuelva estos valores.\n",
    "    \n",
    "Queremos saber la cantidad de días:\n",
    "* sin lluvia: valor de precipitaciones es 0\n",
    "* con lluvia: valor de precipitaciones es distinto de 0\n",
    "* con más de 100 de lluvia: valor de precipitaciones es mayor a 100\n",
    "* con lluvia, pero no mayor a 100: valor de precipitaciones es distinto de 0 y menor o igual a 100 \n",
    "   \n",
    "</label></div>    \n",
    "</div>"
   ]
  },
  {
   "cell_type": "code",
   "execution_count": 30,
   "metadata": {},
   "outputs": [
    {
     "name": "stdout",
     "output_type": "stream",
     "text": [
      "Durante el año hubieron 215 dias, en los que no hubo precipitaciones\n",
      "Durante el año hubieron 150 dias, en los que hubo precipitaciones\n",
      "Durante el año hubieron 47 dias, en los que hubo precipitaciones de mas de 100 mm\n",
      "Durante el año hubieron 103 dias, en los que hubo precipitaciones entre 0 y 100 mm\n"
     ]
    }
   ],
   "source": [
    "import numpy as np\n",
    "import os.path\n",
    "\n",
    "data_location = os.path.abspath('Seattle2014.csv')\n",
    "data = np.genfromtxt(data_location, skip_header=1, delimiter=',').astype(int)\n",
    "#print (data)\n",
    "\n",
    "cantidad_precipitaciones = data[:,3].astype(float)\n",
    "#print(cantidad_precipitaciones)\n",
    "\n",
    "dias_sin_precipitaciones_mask = cantidad_precipitaciones == 0\n",
    "dias_sin_precipitaciones_mask_count = cantidad_precipitaciones[dias_sin_precipitaciones_mask]\n",
    "print(f'Durante el año hubieron {dias_sin_precipitaciones_mask_count.size} dias, en los que no hubo precipitaciones')\n",
    "\n",
    "dias_con_precipitaciones_mask = cantidad_precipitaciones > 0\n",
    "dias_con_precipitaciones_mask_count = cantidad_precipitaciones[dias_con_precipitaciones_mask]\n",
    "print(f'Durante el año hubieron {dias_con_precipitaciones_mask_count.size} dias, en los que hubo precipitaciones')\n",
    "\n",
    "dias_con_precipitaciones_con_mas_de_100_mask = cantidad_precipitaciones > 100\n",
    "dias_con_precipitaciones_con_mas_de_100_mask_coount = cantidad_precipitaciones[dias_con_precipitaciones_con_mas_de_100_mask]\n",
    "print(f'Durante el año hubieron {dias_con_precipitaciones_con_mas_de_100_mask_coount.size} dias, en los que hubo precipitaciones de mas de 100 mm')\n",
    "\n",
    "dias_con_precipitaciones_entre_0_y_100_mask = (cantidad_precipitaciones>0) & (cantidad_precipitaciones<=100)\n",
    "dias_con_precipitaciones_entre_0_y_100_mask_count = cantidad_precipitaciones[dias_con_precipitaciones_entre_0_y_100_mask]\n",
    "print(f'Durante el año hubieron {dias_con_precipitaciones_entre_0_y_100_mask_count.size} dias, en los que hubo precipitaciones entre 0 y 100 mm')\n"
   ]
  },
  {
   "cell_type": "markdown",
   "metadata": {
    "toc-hr-collapsed": true
   },
   "source": [
    "___\n",
    "\n",
    "## Versiones"
   ]
  },
  {
   "cell_type": "code",
   "execution_count": null,
   "metadata": {},
   "outputs": [],
   "source": [
    "import numpy\n",
    "numpy.version.version"
   ]
  }
 ],
 "metadata": {
  "kernelspec": {
   "display_name": "Python 3 (ipykernel)",
   "language": "python",
   "name": "python3"
  },
  "language_info": {
   "codemirror_mode": {
    "name": "ipython",
    "version": 3
   },
   "file_extension": ".py",
   "mimetype": "text/x-python",
   "name": "python",
   "nbconvert_exporter": "python",
   "pygments_lexer": "ipython3",
   "version": "3.9.7"
  },
  "toc-autonumbering": false,
  "toc-showcode": true
 },
 "nbformat": 4,
 "nbformat_minor": 4
}
